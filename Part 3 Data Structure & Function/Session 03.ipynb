{
 "cells": [
  {
   "cell_type": "code",
   "execution_count": 1,
   "id": "876f4aed",
   "metadata": {},
   "outputs": [],
   "source": [
    "# tuple\n",
    "t = ()"
   ]
  },
  {
   "cell_type": "code",
   "execution_count": 2,
   "id": "de798720",
   "metadata": {},
   "outputs": [
    {
     "data": {
      "text/plain": [
       "()"
      ]
     },
     "execution_count": 2,
     "metadata": {},
     "output_type": "execute_result"
    }
   ],
   "source": [
    "t"
   ]
  },
  {
   "cell_type": "code",
   "execution_count": 55,
   "id": "4fea5ffe",
   "metadata": {},
   "outputs": [],
   "source": [
    "t = (2,3,4.0,2,\"ahmed\")"
   ]
  },
  {
   "cell_type": "code",
   "execution_count": 56,
   "id": "41705a7c",
   "metadata": {},
   "outputs": [
    {
     "data": {
      "text/plain": [
       "(2, 3, 4.0, 2, 'ahmed')"
      ]
     },
     "execution_count": 56,
     "metadata": {},
     "output_type": "execute_result"
    }
   ],
   "source": [
    "t"
   ]
  },
  {
   "cell_type": "code",
   "execution_count": 9,
   "id": "3e5a0850",
   "metadata": {},
   "outputs": [
    {
     "data": {
      "text/plain": [
       "2"
      ]
     },
     "execution_count": 9,
     "metadata": {},
     "output_type": "execute_result"
    }
   ],
   "source": [
    "t[0]"
   ]
  },
  {
   "cell_type": "code",
   "execution_count": 10,
   "id": "c1a4e3eb",
   "metadata": {},
   "outputs": [
    {
     "data": {
      "text/plain": [
       "'ahmed'"
      ]
     },
     "execution_count": 10,
     "metadata": {},
     "output_type": "execute_result"
    }
   ],
   "source": [
    "t[3]"
   ]
  },
  {
   "cell_type": "code",
   "execution_count": 11,
   "id": "b5600a57",
   "metadata": {},
   "outputs": [
    {
     "ename": "IndexError",
     "evalue": "tuple index out of range",
     "output_type": "error",
     "traceback": [
      "\u001b[1;31m---------------------------------------------------------------------------\u001b[0m",
      "\u001b[1;31mIndexError\u001b[0m                                Traceback (most recent call last)",
      "\u001b[1;32m~\\AppData\\Local\\Temp\\ipykernel_24880\\549899172.py\u001b[0m in \u001b[0;36m<module>\u001b[1;34m\u001b[0m\n\u001b[1;32m----> 1\u001b[1;33m \u001b[0mt\u001b[0m\u001b[1;33m[\u001b[0m\u001b[1;36m4\u001b[0m\u001b[1;33m]\u001b[0m\u001b[1;33m\u001b[0m\u001b[1;33m\u001b[0m\u001b[0m\n\u001b[0m",
      "\u001b[1;31mIndexError\u001b[0m: tuple index out of range"
     ]
    }
   ],
   "source": [
    "t[4]"
   ]
  },
  {
   "cell_type": "code",
   "execution_count": 12,
   "id": "8aff8fd6",
   "metadata": {},
   "outputs": [
    {
     "data": {
      "text/plain": [
       "4"
      ]
     },
     "execution_count": 12,
     "metadata": {},
     "output_type": "execute_result"
    }
   ],
   "source": [
    "len(t)"
   ]
  },
  {
   "cell_type": "code",
   "execution_count": 14,
   "id": "d5a0db46",
   "metadata": {},
   "outputs": [
    {
     "ename": "TypeError",
     "evalue": "'tuple' object does not support item assignment",
     "output_type": "error",
     "traceback": [
      "\u001b[1;31m---------------------------------------------------------------------------\u001b[0m",
      "\u001b[1;31mTypeError\u001b[0m                                 Traceback (most recent call last)",
      "\u001b[1;32m~\\AppData\\Local\\Temp\\ipykernel_24880\\1253691622.py\u001b[0m in \u001b[0;36m<module>\u001b[1;34m\u001b[0m\n\u001b[1;32m----> 1\u001b[1;33m \u001b[0mt\u001b[0m\u001b[1;33m[\u001b[0m\u001b[1;36m0\u001b[0m\u001b[1;33m]\u001b[0m \u001b[1;33m=\u001b[0m \u001b[1;36m1\u001b[0m\u001b[1;33m\u001b[0m\u001b[1;33m\u001b[0m\u001b[0m\n\u001b[0m",
      "\u001b[1;31mTypeError\u001b[0m: 'tuple' object does not support item assignment"
     ]
    }
   ],
   "source": [
    "t[0] = 1 #tuple ==> immutable --> can not be change"
   ]
  },
  {
   "cell_type": "code",
   "execution_count": 20,
   "id": "ca201169",
   "metadata": {},
   "outputs": [
    {
     "data": {
      "text/plain": [
       "(2, 4.0)"
      ]
     },
     "execution_count": 20,
     "metadata": {},
     "output_type": "execute_result"
    }
   ],
   "source": [
    "t[0:3:2]"
   ]
  },
  {
   "cell_type": "code",
   "execution_count": 18,
   "id": "0b8f6feb",
   "metadata": {},
   "outputs": [
    {
     "data": {
      "text/plain": [
       "(2, 3, 4.0, 'ahmed')"
      ]
     },
     "execution_count": 18,
     "metadata": {},
     "output_type": "execute_result"
    }
   ],
   "source": [
    "t[::]"
   ]
  },
  {
   "cell_type": "code",
   "execution_count": 21,
   "id": "03ef826e",
   "metadata": {},
   "outputs": [
    {
     "data": {
      "text/plain": [
       "(2, 3, 4.0, 'ahmed', 5, 6)"
      ]
     },
     "execution_count": 21,
     "metadata": {},
     "output_type": "execute_result"
    }
   ],
   "source": [
    "t = t + (5,6)\n",
    "t"
   ]
  },
  {
   "cell_type": "code",
   "execution_count": 22,
   "id": "e5b25227",
   "metadata": {},
   "outputs": [
    {
     "data": {
      "text/plain": [
       "(1, 2, 3, 4, 5, 6, 7, 8, 9)"
      ]
     },
     "execution_count": 22,
     "metadata": {},
     "output_type": "execute_result"
    }
   ],
   "source": [
    "t = (1,2,3,4,5,6)\n",
    "t = t + (7,8,9)\n",
    "t"
   ]
  },
  {
   "cell_type": "code",
   "execution_count": 23,
   "id": "0629c3e8",
   "metadata": {},
   "outputs": [],
   "source": [
    "t = ()"
   ]
  },
  {
   "cell_type": "code",
   "execution_count": 43,
   "id": "933eeb6c",
   "metadata": {},
   "outputs": [],
   "source": [
    "t1=(1)"
   ]
  },
  {
   "cell_type": "code",
   "execution_count": 44,
   "id": "951af7b7",
   "metadata": {},
   "outputs": [
    {
     "data": {
      "text/plain": [
       "1"
      ]
     },
     "execution_count": 44,
     "metadata": {},
     "output_type": "execute_result"
    }
   ],
   "source": [
    "t1"
   ]
  },
  {
   "cell_type": "code",
   "execution_count": 26,
   "id": "d200093a",
   "metadata": {},
   "outputs": [],
   "source": [
    "t1 = t1 + 4"
   ]
  },
  {
   "cell_type": "code",
   "execution_count": 27,
   "id": "fc8afe83",
   "metadata": {},
   "outputs": [
    {
     "data": {
      "text/plain": [
       "5"
      ]
     },
     "execution_count": 27,
     "metadata": {},
     "output_type": "execute_result"
    }
   ],
   "source": [
    "t1"
   ]
  },
  {
   "cell_type": "code",
   "execution_count": 37,
   "id": "08f20d8d",
   "metadata": {},
   "outputs": [],
   "source": [
    "t3 = (4)"
   ]
  },
  {
   "cell_type": "code",
   "execution_count": null,
   "id": "4412dd34",
   "metadata": {},
   "outputs": [],
   "source": []
  },
  {
   "cell_type": "code",
   "execution_count": 35,
   "id": "f1684d15",
   "metadata": {},
   "outputs": [
    {
     "data": {
      "text/plain": [
       "tuple"
      ]
     },
     "execution_count": 35,
     "metadata": {},
     "output_type": "execute_result"
    }
   ],
   "source": [
    "type(t)"
   ]
  },
  {
   "cell_type": "code",
   "execution_count": 38,
   "id": "847638d6",
   "metadata": {},
   "outputs": [
    {
     "data": {
      "text/plain": [
       "int"
      ]
     },
     "execution_count": 38,
     "metadata": {},
     "output_type": "execute_result"
    }
   ],
   "source": [
    "type(t3)"
   ]
  },
  {
   "cell_type": "code",
   "execution_count": 48,
   "id": "a4fdc69f",
   "metadata": {},
   "outputs": [],
   "source": [
    "t1 = (1,)"
   ]
  },
  {
   "cell_type": "code",
   "execution_count": 54,
   "id": "2689188e",
   "metadata": {},
   "outputs": [
    {
     "ename": "TypeError",
     "evalue": "can only concatenate tuple (not \"int\") to tuple",
     "output_type": "error",
     "traceback": [
      "\u001b[1;31m---------------------------------------------------------------------------\u001b[0m",
      "\u001b[1;31mTypeError\u001b[0m                                 Traceback (most recent call last)",
      "\u001b[1;32m~\\AppData\\Local\\Temp\\ipykernel_24880\\2543175534.py\u001b[0m in \u001b[0;36m<module>\u001b[1;34m\u001b[0m\n\u001b[1;32m----> 1\u001b[1;33m \u001b[0mt2\u001b[0m \u001b[1;33m=\u001b[0m \u001b[0mt1\u001b[0m \u001b[1;33m+\u001b[0m \u001b[1;33m(\u001b[0m\u001b[1;36m1\u001b[0m\u001b[1;33m)\u001b[0m\u001b[1;33m\u001b[0m\u001b[1;33m\u001b[0m\u001b[0m\n\u001b[0m",
      "\u001b[1;31mTypeError\u001b[0m: can only concatenate tuple (not \"int\") to tuple"
     ]
    }
   ],
   "source": [
    "t2 = t1 + (1)"
   ]
  },
  {
   "cell_type": "code",
   "execution_count": 53,
   "id": "7d80cf7a",
   "metadata": {},
   "outputs": [
    {
     "data": {
      "text/plain": [
       "(1, 1)"
      ]
     },
     "execution_count": 53,
     "metadata": {},
     "output_type": "execute_result"
    }
   ],
   "source": [
    "t2"
   ]
  },
  {
   "cell_type": "code",
   "execution_count": null,
   "id": "d1784197",
   "metadata": {},
   "outputs": [],
   "source": []
  },
  {
   "cell_type": "code",
   "execution_count": 57,
   "id": "7ce1bbc5",
   "metadata": {},
   "outputs": [],
   "source": [
    "#lists\n",
    "ls =[]"
   ]
  },
  {
   "cell_type": "code",
   "execution_count": 58,
   "id": "87b1f9fd",
   "metadata": {},
   "outputs": [
    {
     "data": {
      "text/plain": [
       "[]"
      ]
     },
     "execution_count": 58,
     "metadata": {},
     "output_type": "execute_result"
    }
   ],
   "source": [
    "ls"
   ]
  },
  {
   "cell_type": "code",
   "execution_count": 61,
   "id": "c38b8cb8",
   "metadata": {},
   "outputs": [],
   "source": [
    "ls =[1,2,3,4,5.8]"
   ]
  },
  {
   "cell_type": "code",
   "execution_count": 62,
   "id": "21747ef3",
   "metadata": {},
   "outputs": [
    {
     "data": {
      "text/plain": [
       "[1, 2, 3, 4, 5.8]"
      ]
     },
     "execution_count": 62,
     "metadata": {},
     "output_type": "execute_result"
    }
   ],
   "source": [
    "ls"
   ]
  },
  {
   "cell_type": "code",
   "execution_count": 63,
   "id": "806de836",
   "metadata": {},
   "outputs": [],
   "source": [
    "ls = ['name' , 'age', 'address']"
   ]
  },
  {
   "cell_type": "code",
   "execution_count": 64,
   "id": "39ae8316",
   "metadata": {},
   "outputs": [
    {
     "data": {
      "text/plain": [
       "['name', 'age', 'address']"
      ]
     },
     "execution_count": 64,
     "metadata": {},
     "output_type": "execute_result"
    }
   ],
   "source": [
    "ls"
   ]
  },
  {
   "cell_type": "code",
   "execution_count": 65,
   "id": "62562839",
   "metadata": {},
   "outputs": [
    {
     "data": {
      "text/plain": [
       "3"
      ]
     },
     "execution_count": 65,
     "metadata": {},
     "output_type": "execute_result"
    }
   ],
   "source": [
    "len(ls)"
   ]
  },
  {
   "cell_type": "code",
   "execution_count": 66,
   "id": "5f44a5b4",
   "metadata": {},
   "outputs": [
    {
     "data": {
      "text/plain": [
       "'name'"
      ]
     },
     "execution_count": 66,
     "metadata": {},
     "output_type": "execute_result"
    }
   ],
   "source": [
    "ls[0]"
   ]
  },
  {
   "cell_type": "code",
   "execution_count": 67,
   "id": "cd83c641",
   "metadata": {},
   "outputs": [
    {
     "ename": "IndexError",
     "evalue": "list index out of range",
     "output_type": "error",
     "traceback": [
      "\u001b[1;31m---------------------------------------------------------------------------\u001b[0m",
      "\u001b[1;31mIndexError\u001b[0m                                Traceback (most recent call last)",
      "\u001b[1;32m~\\AppData\\Local\\Temp\\ipykernel_24880\\3058092533.py\u001b[0m in \u001b[0;36m<module>\u001b[1;34m\u001b[0m\n\u001b[1;32m----> 1\u001b[1;33m \u001b[0mls\u001b[0m\u001b[1;33m[\u001b[0m\u001b[1;36m4\u001b[0m\u001b[1;33m]\u001b[0m\u001b[1;33m\u001b[0m\u001b[1;33m\u001b[0m\u001b[0m\n\u001b[0m",
      "\u001b[1;31mIndexError\u001b[0m: list index out of range"
     ]
    }
   ],
   "source": [
    "ls[4]"
   ]
  },
  {
   "cell_type": "code",
   "execution_count": 76,
   "id": "8c3e3d15",
   "metadata": {},
   "outputs": [],
   "source": [
    "l = [1,2,3,'ahmed',6.8]"
   ]
  },
  {
   "cell_type": "code",
   "execution_count": 69,
   "id": "700b8905",
   "metadata": {},
   "outputs": [
    {
     "data": {
      "text/plain": [
       "5"
      ]
     },
     "execution_count": 69,
     "metadata": {},
     "output_type": "execute_result"
    }
   ],
   "source": [
    "len(l)"
   ]
  },
  {
   "cell_type": "code",
   "execution_count": 71,
   "id": "60cdd4a6",
   "metadata": {},
   "outputs": [
    {
     "data": {
      "text/plain": [
       "2"
      ]
     },
     "execution_count": 71,
     "metadata": {},
     "output_type": "execute_result"
    }
   ],
   "source": [
    "l[0] + 1"
   ]
  },
  {
   "cell_type": "code",
   "execution_count": 72,
   "id": "92828181",
   "metadata": {},
   "outputs": [
    {
     "data": {
      "text/plain": [
       "[1, 2, 3, 'ahmed', 6.8]"
      ]
     },
     "execution_count": 72,
     "metadata": {},
     "output_type": "execute_result"
    }
   ],
   "source": [
    "l"
   ]
  },
  {
   "cell_type": "code",
   "execution_count": 77,
   "id": "cd84afe6",
   "metadata": {},
   "outputs": [],
   "source": [
    "l[0] = l[0] +l[1]  # mutable"
   ]
  },
  {
   "cell_type": "code",
   "execution_count": 78,
   "id": "9e76bf2d",
   "metadata": {},
   "outputs": [
    {
     "data": {
      "text/plain": [
       "[3, 2, 3, 'ahmed', 6.8]"
      ]
     },
     "execution_count": 78,
     "metadata": {},
     "output_type": "execute_result"
    }
   ],
   "source": [
    "l"
   ]
  },
  {
   "cell_type": "code",
   "execution_count": 80,
   "id": "d9064e33",
   "metadata": {},
   "outputs": [],
   "source": [
    "#add elemnt --> list --- append\n",
    "l.append(10)"
   ]
  },
  {
   "cell_type": "code",
   "execution_count": 81,
   "id": "cf271141",
   "metadata": {},
   "outputs": [
    {
     "data": {
      "text/plain": [
       "[3, 2, 3, 'ahmed', 6.8, 10]"
      ]
     },
     "execution_count": 81,
     "metadata": {},
     "output_type": "execute_result"
    }
   ],
   "source": [
    "l"
   ]
  },
  {
   "cell_type": "code",
   "execution_count": 82,
   "id": "766c6fa2",
   "metadata": {},
   "outputs": [
    {
     "ename": "TypeError",
     "evalue": "list.append() takes exactly one argument (4 given)",
     "output_type": "error",
     "traceback": [
      "\u001b[1;31m---------------------------------------------------------------------------\u001b[0m",
      "\u001b[1;31mTypeError\u001b[0m                                 Traceback (most recent call last)",
      "\u001b[1;32m~\\AppData\\Local\\Temp\\ipykernel_24880\\356968511.py\u001b[0m in \u001b[0;36m<module>\u001b[1;34m\u001b[0m\n\u001b[1;32m----> 1\u001b[1;33m \u001b[0ml\u001b[0m\u001b[1;33m.\u001b[0m\u001b[0mappend\u001b[0m\u001b[1;33m(\u001b[0m\u001b[1;36m10\u001b[0m\u001b[1;33m,\u001b[0m\u001b[1;36m3\u001b[0m\u001b[1;33m,\u001b[0m\u001b[1;36m5\u001b[0m\u001b[1;33m,\u001b[0m\u001b[1;36m6\u001b[0m\u001b[1;33m)\u001b[0m\u001b[1;33m\u001b[0m\u001b[1;33m\u001b[0m\u001b[0m\n\u001b[0m\u001b[0;32m      2\u001b[0m \u001b[0ml\u001b[0m\u001b[1;33m\u001b[0m\u001b[1;33m\u001b[0m\u001b[0m\n",
      "\u001b[1;31mTypeError\u001b[0m: list.append() takes exactly one argument (4 given)"
     ]
    }
   ],
   "source": [
    "l.append(10,3,5,6) # can not append more than one item at a time\n",
    "l"
   ]
  },
  {
   "cell_type": "code",
   "execution_count": 84,
   "id": "4a6f34ef",
   "metadata": {},
   "outputs": [
    {
     "data": {
      "text/plain": [
       "[3, 2, 3, 'ahmed', 6.8, 10, 10, 3, 5, 6]"
      ]
     },
     "execution_count": 84,
     "metadata": {},
     "output_type": "execute_result"
    }
   ],
   "source": [
    "l + [10,3,5,6]"
   ]
  },
  {
   "cell_type": "code",
   "execution_count": 86,
   "id": "3397c4d8",
   "metadata": {},
   "outputs": [],
   "source": [
    "l[3] = 'age'"
   ]
  },
  {
   "cell_type": "code",
   "execution_count": 87,
   "id": "fe677fa0",
   "metadata": {},
   "outputs": [
    {
     "data": {
      "text/plain": [
       "[3, 2, 3, 'age', 6.8, 10]"
      ]
     },
     "execution_count": 87,
     "metadata": {},
     "output_type": "execute_result"
    }
   ],
   "source": [
    "l"
   ]
  },
  {
   "cell_type": "code",
   "execution_count": 88,
   "id": "df9fb97a",
   "metadata": {},
   "outputs": [],
   "source": [
    "del(l[2])"
   ]
  },
  {
   "cell_type": "code",
   "execution_count": 89,
   "id": "fb4a213a",
   "metadata": {},
   "outputs": [
    {
     "data": {
      "text/plain": [
       "[3, 2, 'age', 6.8, 10]"
      ]
     },
     "execution_count": 89,
     "metadata": {},
     "output_type": "execute_result"
    }
   ],
   "source": [
    "l"
   ]
  },
  {
   "cell_type": "code",
   "execution_count": 91,
   "id": "8667931e",
   "metadata": {},
   "outputs": [],
   "source": [
    "l = [1,2,3,'ahmed',6.8,[1,2,3]]"
   ]
  },
  {
   "cell_type": "code",
   "execution_count": 92,
   "id": "e45feeb5",
   "metadata": {},
   "outputs": [
    {
     "data": {
      "text/plain": [
       "[1, 2, 3, 'ahmed', 6.8, [1, 2, 3]]"
      ]
     },
     "execution_count": 92,
     "metadata": {},
     "output_type": "execute_result"
    }
   ],
   "source": [
    "l"
   ]
  },
  {
   "cell_type": "code",
   "execution_count": 100,
   "id": "5b62cd09",
   "metadata": {},
   "outputs": [
    {
     "data": {
      "text/plain": [
       "2"
      ]
     },
     "execution_count": 100,
     "metadata": {},
     "output_type": "execute_result"
    }
   ],
   "source": [
    "l[5][1]"
   ]
  },
  {
   "cell_type": "code",
   "execution_count": 101,
   "id": "dc85a737",
   "metadata": {},
   "outputs": [],
   "source": [
    "l = [1,2,3,'ahmed',6.8,[1,2,[3,5]]]"
   ]
  },
  {
   "cell_type": "code",
   "execution_count": 102,
   "id": "fb752df0",
   "metadata": {},
   "outputs": [
    {
     "data": {
      "text/plain": [
       "[1, 2, 3, 'ahmed', 6.8, [1, 2, [3, 5]]]"
      ]
     },
     "execution_count": 102,
     "metadata": {},
     "output_type": "execute_result"
    }
   ],
   "source": [
    "l"
   ]
  },
  {
   "cell_type": "code",
   "execution_count": 104,
   "id": "e4bcd9fc",
   "metadata": {},
   "outputs": [
    {
     "data": {
      "text/plain": [
       "5"
      ]
     },
     "execution_count": 104,
     "metadata": {},
     "output_type": "execute_result"
    }
   ],
   "source": [
    "l[5][2][1]"
   ]
  },
  {
   "cell_type": "code",
   "execution_count": 108,
   "id": "fa24feb4",
   "metadata": {},
   "outputs": [],
   "source": []
  },
  {
   "cell_type": "code",
   "execution_count": 111,
   "id": "0d07fe59",
   "metadata": {},
   "outputs": [
    {
     "name": "stdout",
     "output_type": "stream",
     "text": [
      "15\n"
     ]
    }
   ],
   "source": [
    "ls = [1,2,3,4,5]\n",
    "sum = 0\n",
    "for i in range(len(ls)):\n",
    "    sum = sum + ls[i]\n",
    "print(sum)"
   ]
  },
  {
   "cell_type": "code",
   "execution_count": 105,
   "id": "ff0304e2",
   "metadata": {},
   "outputs": [
    {
     "data": {
      "text/plain": [
       "15"
      ]
     },
     "execution_count": 105,
     "metadata": {},
     "output_type": "execute_result"
    }
   ],
   "source": [
    "1+2+3+4+5"
   ]
  },
  {
   "cell_type": "code",
   "execution_count": 113,
   "id": "275496d8",
   "metadata": {},
   "outputs": [
    {
     "name": "stdout",
     "output_type": "stream",
     "text": [
      "15\n"
     ]
    }
   ],
   "source": [
    "ls = [1,2,3,4,5]\n",
    "sum = 0\n",
    "for i in ls:\n",
    "    sum = sum + i\n",
    "print(sum)"
   ]
  },
  {
   "cell_type": "code",
   "execution_count": 120,
   "id": "f6c802a7",
   "metadata": {},
   "outputs": [
    {
     "data": {
      "text/plain": [
       "[1, 2, 3, 4]"
      ]
     },
     "execution_count": 120,
     "metadata": {},
     "output_type": "execute_result"
    }
   ],
   "source": [
    "l1 = [1,2]\n",
    "l2 = [3,4]\n",
    "\n",
    "l3 = l1+l2 #concate between 2 lists\n",
    "l3"
   ]
  },
  {
   "cell_type": "code",
   "execution_count": 122,
   "id": "5ddf375f",
   "metadata": {},
   "outputs": [],
   "source": [
    "l3.extend([5,5])"
   ]
  },
  {
   "cell_type": "code",
   "execution_count": 123,
   "id": "00fba0d3",
   "metadata": {},
   "outputs": [
    {
     "data": {
      "text/plain": [
       "[1, 2, 3, 4, 5, 5]"
      ]
     },
     "execution_count": 123,
     "metadata": {},
     "output_type": "execute_result"
    }
   ],
   "source": [
    "l3"
   ]
  },
  {
   "cell_type": "code",
   "execution_count": 124,
   "id": "bad04927",
   "metadata": {},
   "outputs": [
    {
     "data": {
      "text/plain": [
       "[1, 2, 3, 4, 5, 5, 5, 5, 4, 5, 6, 7]"
      ]
     },
     "execution_count": 124,
     "metadata": {},
     "output_type": "execute_result"
    }
   ],
   "source": [
    "l3.extend([5,5,4,5,6,7])\n",
    "l3"
   ]
  },
  {
   "cell_type": "code",
   "execution_count": 125,
   "id": "386dcf3f",
   "metadata": {},
   "outputs": [
    {
     "data": {
      "text/plain": [
       "[1, 2, 3, 4, 5, 5, 5, 5, 4, 5, 6, 7, [5, 5, 4, 5, 6, 7]]"
      ]
     },
     "execution_count": 125,
     "metadata": {},
     "output_type": "execute_result"
    }
   ],
   "source": [
    "l3.append([5,5,4,5,6,7])\n",
    "l3"
   ]
  },
  {
   "cell_type": "code",
   "execution_count": 126,
   "id": "3d44c9fc",
   "metadata": {},
   "outputs": [
    {
     "data": {
      "text/plain": [
       "[2, 3, 4, 5, 5, 5, 5, 4, 5, 6, 7, [5, 5, 4, 5, 6, 7]]"
      ]
     },
     "execution_count": 126,
     "metadata": {},
     "output_type": "execute_result"
    }
   ],
   "source": [
    "del(l3[0])\n",
    "l3"
   ]
  },
  {
   "cell_type": "code",
   "execution_count": 127,
   "id": "df818785",
   "metadata": {},
   "outputs": [],
   "source": [
    "l3.remove(7) # remove an item (not index)"
   ]
  },
  {
   "cell_type": "code",
   "execution_count": 128,
   "id": "96b85a94",
   "metadata": {},
   "outputs": [
    {
     "data": {
      "text/plain": [
       "[2, 3, 4, 5, 5, 5, 5, 4, 5, 6, [5, 5, 4, 5, 6, 7]]"
      ]
     },
     "execution_count": 128,
     "metadata": {},
     "output_type": "execute_result"
    }
   ],
   "source": [
    "l3"
   ]
  },
  {
   "cell_type": "code",
   "execution_count": 129,
   "id": "99cd75c8",
   "metadata": {},
   "outputs": [
    {
     "data": {
      "text/plain": [
       "[2, 3, 4, 5, 5, 5, 4, 5, 6, [5, 5, 4, 5, 6, 7]]"
      ]
     },
     "execution_count": 129,
     "metadata": {},
     "output_type": "execute_result"
    }
   ],
   "source": [
    "l3.remove(5)\n",
    "l3"
   ]
  },
  {
   "cell_type": "code",
   "execution_count": 130,
   "id": "c0d5cf56",
   "metadata": {},
   "outputs": [
    {
     "data": {
      "text/plain": [
       "[2, 3, 4, 5, 5, 4, 5, 6, [5, 5, 4, 5, 6, 7]]"
      ]
     },
     "execution_count": 130,
     "metadata": {},
     "output_type": "execute_result"
    }
   ],
   "source": [
    "l3.remove(5)\n",
    "l3"
   ]
  },
  {
   "cell_type": "code",
   "execution_count": 131,
   "id": "b7336e1f",
   "metadata": {},
   "outputs": [
    {
     "data": {
      "text/plain": [
       "[2, 3, 4, 5, 5, 4, 5, 6, [5, 5, 4, 5, 6, 7], 'aya']"
      ]
     },
     "execution_count": 131,
     "metadata": {},
     "output_type": "execute_result"
    }
   ],
   "source": [
    "l3.append(\"aya\")\n",
    "l3"
   ]
  },
  {
   "cell_type": "code",
   "execution_count": 133,
   "id": "243e1a9a",
   "metadata": {},
   "outputs": [
    {
     "data": {
      "text/plain": [
       "[2, 3, 4, 5, 5, 4, 5, 6, [5, 5, 4, 5, 6, 7]]"
      ]
     },
     "execution_count": 133,
     "metadata": {},
     "output_type": "execute_result"
    }
   ],
   "source": [
    "l3.remove('aya')\n",
    "l3"
   ]
  },
  {
   "cell_type": "code",
   "execution_count": 134,
   "id": "7b6f3384",
   "metadata": {},
   "outputs": [
    {
     "data": {
      "text/plain": [
       "[5, 5, 4, 5, 6, 7]"
      ]
     },
     "execution_count": 134,
     "metadata": {},
     "output_type": "execute_result"
    }
   ],
   "source": [
    "l3.pop()"
   ]
  },
  {
   "cell_type": "code",
   "execution_count": 135,
   "id": "876fdd48",
   "metadata": {},
   "outputs": [
    {
     "data": {
      "text/plain": [
       "[2, 3, 4, 5, 5, 4, 5, 6]"
      ]
     },
     "execution_count": 135,
     "metadata": {},
     "output_type": "execute_result"
    }
   ],
   "source": [
    "l3"
   ]
  },
  {
   "cell_type": "code",
   "execution_count": 136,
   "id": "e5aaca31",
   "metadata": {},
   "outputs": [
    {
     "data": {
      "text/plain": [
       "6"
      ]
     },
     "execution_count": 136,
     "metadata": {},
     "output_type": "execute_result"
    }
   ],
   "source": [
    "l3.pop()"
   ]
  },
  {
   "cell_type": "code",
   "execution_count": 137,
   "id": "805a06bb",
   "metadata": {},
   "outputs": [
    {
     "data": {
      "text/plain": [
       "[2, 3, 4, 5, 5, 4, 5]"
      ]
     },
     "execution_count": 137,
     "metadata": {},
     "output_type": "execute_result"
    }
   ],
   "source": [
    "l3"
   ]
  },
  {
   "cell_type": "code",
   "execution_count": 138,
   "id": "6574c247",
   "metadata": {},
   "outputs": [
    {
     "data": {
      "text/plain": [
       "5"
      ]
     },
     "execution_count": 138,
     "metadata": {},
     "output_type": "execute_result"
    }
   ],
   "source": [
    "l3[-1]"
   ]
  },
  {
   "cell_type": "code",
   "execution_count": 139,
   "id": "e4b89b05",
   "metadata": {},
   "outputs": [
    {
     "data": {
      "text/plain": [
       "[2, 3, 4, 5, 5, 4]"
      ]
     },
     "execution_count": 139,
     "metadata": {},
     "output_type": "execute_result"
    }
   ],
   "source": [
    "del(l3[-1])\n",
    "l3"
   ]
  },
  {
   "cell_type": "code",
   "execution_count": 140,
   "id": "2875a466",
   "metadata": {},
   "outputs": [
    {
     "data": {
      "text/plain": [
       "2"
      ]
     },
     "execution_count": 140,
     "metadata": {},
     "output_type": "execute_result"
    }
   ],
   "source": [
    "l3.pop(0)"
   ]
  },
  {
   "cell_type": "code",
   "execution_count": 141,
   "id": "aac20bda",
   "metadata": {},
   "outputs": [
    {
     "data": {
      "text/plain": [
       "[3, 4, 5, 5, 4]"
      ]
     },
     "execution_count": 141,
     "metadata": {},
     "output_type": "execute_result"
    }
   ],
   "source": [
    "l3"
   ]
  },
  {
   "cell_type": "code",
   "execution_count": 143,
   "id": "fdf53f65",
   "metadata": {},
   "outputs": [
    {
     "name": "stdout",
     "output_type": "stream",
     "text": [
      "['W', 'e', 'l', 'c', 'o', 'm', 'e', ' ', 't', 'o', ' ', 'A', 'I', ' ', 'c', 'o', 'u', 'r', 's', 'e']\n"
     ]
    }
   ],
   "source": [
    "s = \"Welcome to AI course\"\n",
    "\n",
    "ls = []\n",
    "for i in s:\n",
    "    ls.append(i)\n",
    "    \n",
    "print(ls)   "
   ]
  },
  {
   "cell_type": "code",
   "execution_count": 144,
   "id": "7e405f67",
   "metadata": {},
   "outputs": [
    {
     "data": {
      "text/plain": [
       "['W',\n",
       " 'e',\n",
       " 'l',\n",
       " 'c',\n",
       " 'o',\n",
       " 'm',\n",
       " 'e',\n",
       " ' ',\n",
       " 't',\n",
       " 'o',\n",
       " ' ',\n",
       " 'A',\n",
       " 'I',\n",
       " ' ',\n",
       " 'c',\n",
       " 'o',\n",
       " 'u',\n",
       " 'r',\n",
       " 's',\n",
       " 'e']"
      ]
     },
     "execution_count": 144,
     "metadata": {},
     "output_type": "execute_result"
    }
   ],
   "source": [
    "list_s = list(s)\n",
    "list_s"
   ]
  },
  {
   "cell_type": "code",
   "execution_count": 145,
   "id": "d8d0183c",
   "metadata": {},
   "outputs": [
    {
     "data": {
      "text/plain": [
       "'W'"
      ]
     },
     "execution_count": 145,
     "metadata": {},
     "output_type": "execute_result"
    }
   ],
   "source": [
    "list_s[0]"
   ]
  },
  {
   "cell_type": "code",
   "execution_count": 146,
   "id": "bec31780",
   "metadata": {},
   "outputs": [
    {
     "data": {
      "text/plain": [
       "20"
      ]
     },
     "execution_count": 146,
     "metadata": {},
     "output_type": "execute_result"
    }
   ],
   "source": [
    "len(list_s)"
   ]
  },
  {
   "cell_type": "code",
   "execution_count": 147,
   "id": "57be1ce9",
   "metadata": {},
   "outputs": [],
   "source": [
    "s1= ''"
   ]
  },
  {
   "cell_type": "code",
   "execution_count": 149,
   "id": "059c0267",
   "metadata": {},
   "outputs": [
    {
     "data": {
      "text/plain": [
       "str"
      ]
     },
     "execution_count": 149,
     "metadata": {},
     "output_type": "execute_result"
    }
   ],
   "source": [
    "type(s1)"
   ]
  },
  {
   "cell_type": "code",
   "execution_count": 150,
   "id": "767956a7",
   "metadata": {},
   "outputs": [
    {
     "data": {
      "text/plain": [
       "'Welcome to AI course'"
      ]
     },
     "execution_count": 150,
     "metadata": {},
     "output_type": "execute_result"
    }
   ],
   "source": [
    "list_s = ''.join(list_s)\n",
    "list_s"
   ]
  },
  {
   "cell_type": "code",
   "execution_count": 151,
   "id": "2ecb6795",
   "metadata": {},
   "outputs": [
    {
     "data": {
      "text/plain": [
       "str"
      ]
     },
     "execution_count": 151,
     "metadata": {},
     "output_type": "execute_result"
    }
   ],
   "source": [
    "type(list_s)"
   ]
  },
  {
   "cell_type": "code",
   "execution_count": 154,
   "id": "17f7ad5e",
   "metadata": {},
   "outputs": [],
   "source": [
    "f = list_s.split(\"to\")"
   ]
  },
  {
   "cell_type": "code",
   "execution_count": 155,
   "id": "724289f2",
   "metadata": {},
   "outputs": [
    {
     "data": {
      "text/plain": [
       "['Welcome ', ' AI course']"
      ]
     },
     "execution_count": 155,
     "metadata": {},
     "output_type": "execute_result"
    }
   ],
   "source": [
    "f"
   ]
  },
  {
   "cell_type": "code",
   "execution_count": 156,
   "id": "96dd992c",
   "metadata": {},
   "outputs": [
    {
     "data": {
      "text/plain": [
       "list"
      ]
     },
     "execution_count": 156,
     "metadata": {},
     "output_type": "execute_result"
    }
   ],
   "source": [
    "type(f)"
   ]
  },
  {
   "cell_type": "code",
   "execution_count": 167,
   "id": "4fab223a",
   "metadata": {},
   "outputs": [
    {
     "data": {
      "text/plain": [
       "[2, 3, 4, 9, 10]"
      ]
     },
     "execution_count": 167,
     "metadata": {},
     "output_type": "execute_result"
    }
   ],
   "source": [
    "l = [4,2,9,10,3]\n",
    "l.sort()\n",
    "l"
   ]
  },
  {
   "cell_type": "code",
   "execution_count": 158,
   "id": "eb25b0db",
   "metadata": {},
   "outputs": [
    {
     "data": {
      "text/plain": [
       "[2, 3, 4, 9, 10]"
      ]
     },
     "execution_count": 158,
     "metadata": {},
     "output_type": "execute_result"
    }
   ],
   "source": [
    "l"
   ]
  },
  {
   "cell_type": "code",
   "execution_count": 169,
   "id": "f317f18c",
   "metadata": {},
   "outputs": [
    {
     "data": {
      "text/plain": [
       "[2, 3, 4, 9, 10]"
      ]
     },
     "execution_count": 169,
     "metadata": {},
     "output_type": "execute_result"
    }
   ],
   "source": [
    "l = [4,2,9,10,3]\n",
    "sorted(l) #sort on the fly"
   ]
  },
  {
   "cell_type": "code",
   "execution_count": 170,
   "id": "6ed3763e",
   "metadata": {},
   "outputs": [
    {
     "data": {
      "text/plain": [
       "[4, 2, 9, 10, 3]"
      ]
     },
     "execution_count": 170,
     "metadata": {},
     "output_type": "execute_result"
    }
   ],
   "source": [
    "l"
   ]
  },
  {
   "cell_type": "code",
   "execution_count": 171,
   "id": "8491213f",
   "metadata": {},
   "outputs": [
    {
     "data": {
      "text/plain": [
       "[2, 3, 4, 9, 10]"
      ]
     },
     "execution_count": 171,
     "metadata": {},
     "output_type": "execute_result"
    }
   ],
   "source": [
    "l = [4,2,9,10,3]\n",
    "l.sort()\n",
    "l"
   ]
  },
  {
   "cell_type": "code",
   "execution_count": 173,
   "id": "3a5f2ef3",
   "metadata": {},
   "outputs": [],
   "source": [
    "l.reverse()"
   ]
  },
  {
   "cell_type": "code",
   "execution_count": 174,
   "id": "a20d0e2f",
   "metadata": {},
   "outputs": [
    {
     "data": {
      "text/plain": [
       "[10, 9, 4, 3, 2]"
      ]
     },
     "execution_count": 174,
     "metadata": {},
     "output_type": "execute_result"
    }
   ],
   "source": [
    "l"
   ]
  },
  {
   "cell_type": "code",
   "execution_count": 175,
   "id": "d9c6fa4a",
   "metadata": {},
   "outputs": [
    {
     "data": {
      "text/plain": [
       "['a', 'c', 'r', 'xd', 'z']"
      ]
     },
     "execution_count": 175,
     "metadata": {},
     "output_type": "execute_result"
    }
   ],
   "source": [
    "ls = ['z','xd','a','c','r']\n",
    "ls.sort()\n",
    "ls"
   ]
  },
  {
   "cell_type": "code",
   "execution_count": 176,
   "id": "95547259",
   "metadata": {},
   "outputs": [],
   "source": [
    "ls.reverse()"
   ]
  },
  {
   "cell_type": "code",
   "execution_count": 177,
   "id": "30216d2a",
   "metadata": {},
   "outputs": [
    {
     "data": {
      "text/plain": [
       "['z', 'xd', 'r', 'c', 'a']"
      ]
     },
     "execution_count": 177,
     "metadata": {},
     "output_type": "execute_result"
    }
   ],
   "source": [
    "ls"
   ]
  },
  {
   "cell_type": "code",
   "execution_count": 180,
   "id": "4cc9e008",
   "metadata": {},
   "outputs": [
    {
     "ename": "TypeError",
     "evalue": "'<' not supported between instances of 'str' and 'int'",
     "output_type": "error",
     "traceback": [
      "\u001b[1;31m---------------------------------------------------------------------------\u001b[0m",
      "\u001b[1;31mTypeError\u001b[0m                                 Traceback (most recent call last)",
      "\u001b[1;32m~\\AppData\\Local\\Temp\\ipykernel_24880\\774128512.py\u001b[0m in \u001b[0;36m<module>\u001b[1;34m\u001b[0m\n\u001b[0;32m      1\u001b[0m \u001b[0mls\u001b[0m\u001b[1;33m=\u001b[0m \u001b[1;33m[\u001b[0m\u001b[1;36m5\u001b[0m\u001b[1;33m,\u001b[0m\u001b[1;36m1\u001b[0m\u001b[1;33m,\u001b[0m\u001b[1;36m9\u001b[0m\u001b[1;33m,\u001b[0m\u001b[1;34m'w'\u001b[0m\u001b[1;33m,\u001b[0m\u001b[1;34m'q'\u001b[0m\u001b[1;33m,\u001b[0m\u001b[1;34m'd'\u001b[0m\u001b[1;33m]\u001b[0m\u001b[1;33m\u001b[0m\u001b[1;33m\u001b[0m\u001b[0m\n\u001b[1;32m----> 2\u001b[1;33m \u001b[0mls\u001b[0m\u001b[1;33m.\u001b[0m\u001b[0msort\u001b[0m\u001b[1;33m(\u001b[0m\u001b[1;33m)\u001b[0m\u001b[1;33m\u001b[0m\u001b[1;33m\u001b[0m\u001b[0m\n\u001b[0m\u001b[0;32m      3\u001b[0m \u001b[0mls\u001b[0m\u001b[1;33m\u001b[0m\u001b[1;33m\u001b[0m\u001b[0m\n",
      "\u001b[1;31mTypeError\u001b[0m: '<' not supported between instances of 'str' and 'int'"
     ]
    }
   ],
   "source": [
    "ls= [5,1,9,'w','q','d']\n",
    "ls.sort()\n",
    "ls"
   ]
  },
  {
   "cell_type": "code",
   "execution_count": 184,
   "id": "ca6f2a09",
   "metadata": {},
   "outputs": [
    {
     "name": "stdout",
     "output_type": "stream",
     "text": [
      "['cs', 'ai', 'cs', 'ai', 'cs', 'ai']\n"
     ]
    }
   ],
   "source": [
    "ls = ['cs', 'ai']\n",
    "print(ls*3) # repeat list items --> 3 times"
   ]
  },
  {
   "cell_type": "code",
   "execution_count": 185,
   "id": "3c24bd88",
   "metadata": {},
   "outputs": [
    {
     "name": "stdout",
     "output_type": "stream",
     "text": [
      "True\n"
     ]
    }
   ],
   "source": [
    "ls = ['ottawa','cairo','london','rayd']\n",
    "print('ottawa' in ls)"
   ]
  },
  {
   "cell_type": "code",
   "execution_count": 186,
   "id": "1296a6ed",
   "metadata": {},
   "outputs": [
    {
     "name": "stdout",
     "output_type": "stream",
     "text": [
      "False\n"
     ]
    }
   ],
   "source": [
    "ls = ['ottawa','cairo','london','rayd']\n",
    "print('ottawa' not in ls)"
   ]
  },
  {
   "cell_type": "code",
   "execution_count": 187,
   "id": "9147f0f7",
   "metadata": {},
   "outputs": [
    {
     "name": "stdout",
     "output_type": "stream",
     "text": [
      "False\n"
     ]
    }
   ],
   "source": [
    "ls = ['ottawa','cairo','london','rayd']\n",
    "print('egypt' in ls)"
   ]
  },
  {
   "cell_type": "code",
   "execution_count": 188,
   "id": "d3077e5a",
   "metadata": {},
   "outputs": [
    {
     "name": "stdout",
     "output_type": "stream",
     "text": [
      "True\n"
     ]
    }
   ],
   "source": [
    "ls = ['ottawa','cairo','london','rayd']\n",
    "print('egypt' not in ls)"
   ]
  },
  {
   "cell_type": "code",
   "execution_count": 189,
   "id": "8bdac9f8",
   "metadata": {},
   "outputs": [],
   "source": [
    "warm = ['red','yellow','green']"
   ]
  },
  {
   "cell_type": "code",
   "execution_count": 190,
   "id": "ecfaf009",
   "metadata": {},
   "outputs": [
    {
     "data": {
      "text/plain": [
       "['red', 'yellow', 'green']"
      ]
     },
     "execution_count": 190,
     "metadata": {},
     "output_type": "execute_result"
    }
   ],
   "source": [
    "warm"
   ]
  },
  {
   "cell_type": "code",
   "execution_count": 191,
   "id": "1002fd08",
   "metadata": {},
   "outputs": [],
   "source": [
    "hot = warm # hot is an alis for warm list"
   ]
  },
  {
   "cell_type": "code",
   "execution_count": 192,
   "id": "b70d2f85",
   "metadata": {},
   "outputs": [
    {
     "data": {
      "text/plain": [
       "['red', 'yellow', 'green']"
      ]
     },
     "execution_count": 192,
     "metadata": {},
     "output_type": "execute_result"
    }
   ],
   "source": [
    "hot"
   ]
  },
  {
   "cell_type": "code",
   "execution_count": 193,
   "id": "e6accd0a",
   "metadata": {},
   "outputs": [],
   "source": [
    "hot.append('blue')"
   ]
  },
  {
   "cell_type": "code",
   "execution_count": 194,
   "id": "62d730c0",
   "metadata": {},
   "outputs": [
    {
     "data": {
      "text/plain": [
       "['red', 'yellow', 'green', 'blue']"
      ]
     },
     "execution_count": 194,
     "metadata": {},
     "output_type": "execute_result"
    }
   ],
   "source": [
    "hot"
   ]
  },
  {
   "cell_type": "code",
   "execution_count": 195,
   "id": "a4675536",
   "metadata": {},
   "outputs": [
    {
     "data": {
      "text/plain": [
       "['red', 'yellow', 'green', 'blue']"
      ]
     },
     "execution_count": 195,
     "metadata": {},
     "output_type": "execute_result"
    }
   ],
   "source": [
    "warm"
   ]
  },
  {
   "cell_type": "code",
   "execution_count": 196,
   "id": "7ec11fcd",
   "metadata": {},
   "outputs": [],
   "source": [
    "warm.append('black')"
   ]
  },
  {
   "cell_type": "code",
   "execution_count": 197,
   "id": "f656f1c6",
   "metadata": {},
   "outputs": [
    {
     "data": {
      "text/plain": [
       "['red', 'yellow', 'green', 'blue', 'black']"
      ]
     },
     "execution_count": 197,
     "metadata": {},
     "output_type": "execute_result"
    }
   ],
   "source": [
    "warm"
   ]
  },
  {
   "cell_type": "code",
   "execution_count": 198,
   "id": "7a5d8d0c",
   "metadata": {},
   "outputs": [
    {
     "data": {
      "text/plain": [
       "['red', 'yellow', 'green', 'blue', 'black']"
      ]
     },
     "execution_count": 198,
     "metadata": {},
     "output_type": "execute_result"
    }
   ],
   "source": [
    "hot"
   ]
  },
  {
   "cell_type": "code",
   "execution_count": 199,
   "id": "e52665a8",
   "metadata": {},
   "outputs": [],
   "source": [
    "warm = ['red','yellow','green']\n",
    "hot = warm[:] # copy from warm"
   ]
  },
  {
   "cell_type": "code",
   "execution_count": 200,
   "id": "e9ea7ceb",
   "metadata": {},
   "outputs": [
    {
     "data": {
      "text/plain": [
       "['red', 'yellow', 'green']"
      ]
     },
     "execution_count": 200,
     "metadata": {},
     "output_type": "execute_result"
    }
   ],
   "source": [
    "hot"
   ]
  },
  {
   "cell_type": "code",
   "execution_count": 201,
   "id": "246f66f8",
   "metadata": {},
   "outputs": [],
   "source": [
    "hot.append('blue')"
   ]
  },
  {
   "cell_type": "code",
   "execution_count": 202,
   "id": "75b3e9a1",
   "metadata": {},
   "outputs": [
    {
     "name": "stdout",
     "output_type": "stream",
     "text": [
      "hot list ['red', 'yellow', 'green', 'blue']\n",
      "warm list ['red', 'yellow', 'green']\n"
     ]
    }
   ],
   "source": [
    "print(\"hot list\",hot)\n",
    "print(\"warm list\",warm)"
   ]
  },
  {
   "cell_type": "markdown",
   "id": "b5f1c611",
   "metadata": {},
   "source": [
    "## TASK"
   ]
  },
  {
   "cell_type": "code",
   "execution_count": 203,
   "id": "6bf8bc1f",
   "metadata": {},
   "outputs": [],
   "source": [
    "class_list = [[\"Mohamed\", 18, 3.00],[\"Yara\", 19, 4.00],[\"Omar\", 18, 3.75]]"
   ]
  },
  {
   "cell_type": "code",
   "execution_count": 204,
   "id": "d2344abc",
   "metadata": {},
   "outputs": [
    {
     "data": {
      "text/plain": [
       "[['Mohamed', 18, 3.0],\n",
       " ['Yara', 19, 4.0],\n",
       " ['Omar', 18, 3.75],\n",
       " ['Mohsen', 20, 2.5]]"
      ]
     },
     "execution_count": 204,
     "metadata": {},
     "output_type": "execute_result"
    }
   ],
   "source": [
    "# 1- Add another row to the 2D List: [\"Mohsen\", 20, 2.5] and print the new List\n",
    "class_list.append([\"Mohsen\", 20, 2.5])\n",
    "class_list"
   ]
  },
  {
   "cell_type": "code",
   "execution_count": 206,
   "id": "9829ab8e",
   "metadata": {},
   "outputs": [
    {
     "data": {
      "text/plain": [
       "[['Mohamed', 18, 3.0],\n",
       " ['Yara', 19, 4.0],\n",
       " ['Omar', 18, 3.75, 'PASS'],\n",
       " ['Mohsen', 20, 2.5]]"
      ]
     },
     "execution_count": 206,
     "metadata": {},
     "output_type": "execute_result"
    }
   ],
   "source": [
    "# 2- Add another element to the 3rdrow that says \"PASS\"and print the new List.\n",
    "class_list[2].append('PASS')\n",
    "class_list"
   ]
  },
  {
   "cell_type": "code",
   "execution_count": 207,
   "id": "d4f1b979",
   "metadata": {},
   "outputs": [
    {
     "data": {
      "text/plain": [
       "[['Mohamed', 18, 3.0],\n",
       " ['Mohsen', 20, 2.5],\n",
       " ['Omar', 18, 3.75, 'PASS'],\n",
       " ['Yara', 19, 4.0]]"
      ]
     },
     "execution_count": 207,
     "metadata": {},
     "output_type": "execute_result"
    }
   ],
   "source": [
    "# 3- Sort the rows of the 2D List in ascending order and print the new List.\n",
    "class_list.sort()\n",
    "class_list"
   ]
  },
  {
   "cell_type": "code",
   "execution_count": 208,
   "id": "1050bcd7",
   "metadata": {},
   "outputs": [
    {
     "data": {
      "text/plain": [
       "['Mohamed', 18, 3.0]"
      ]
     },
     "execution_count": 208,
     "metadata": {},
     "output_type": "execute_result"
    }
   ],
   "source": [
    "# 4- print the first row only.\n",
    "class_list[0]"
   ]
  },
  {
   "cell_type": "code",
   "execution_count": 210,
   "id": "678c6c6d",
   "metadata": {},
   "outputs": [
    {
     "data": {
      "text/plain": [
       "3.75"
      ]
     },
     "execution_count": 210,
     "metadata": {},
     "output_type": "execute_result"
    }
   ],
   "source": [
    "# 5- Print the GPA of Omar.\n",
    "class_list[2][2]"
   ]
  },
  {
   "cell_type": "code",
   "execution_count": 211,
   "id": "1c02e7f8",
   "metadata": {},
   "outputs": [
    {
     "data": {
      "text/plain": [
       "20"
      ]
     },
     "execution_count": 211,
     "metadata": {},
     "output_type": "execute_result"
    }
   ],
   "source": [
    "# 6- Print the Age of Mohsen.\n",
    "class_list[1][1]"
   ]
  },
  {
   "cell_type": "code",
   "execution_count": 212,
   "id": "72d8c175",
   "metadata": {},
   "outputs": [
    {
     "data": {
      "text/plain": [
       "'Yara'"
      ]
     },
     "execution_count": 212,
     "metadata": {},
     "output_type": "execute_result"
    }
   ],
   "source": [
    "# 7- Print the Name of Yara.\n",
    "class_list[3][0]"
   ]
  },
  {
   "cell_type": "code",
   "execution_count": 213,
   "id": "0f6eaca5",
   "metadata": {},
   "outputs": [],
   "source": [
    "dict = {} # dictionary"
   ]
  },
  {
   "cell_type": "code",
   "execution_count": 214,
   "id": "fcc4b3ff",
   "metadata": {},
   "outputs": [
    {
     "data": {
      "text/plain": [
       "{}"
      ]
     },
     "execution_count": 214,
     "metadata": {},
     "output_type": "execute_result"
    }
   ],
   "source": [
    "dict"
   ]
  },
  {
   "cell_type": "code",
   "execution_count": 216,
   "id": "b9383f7b",
   "metadata": {},
   "outputs": [
    {
     "data": {
      "text/plain": [
       "dict"
      ]
     },
     "execution_count": 216,
     "metadata": {},
     "output_type": "execute_result"
    }
   ],
   "source": [
    "type(dict)"
   ]
  },
  {
   "cell_type": "code",
   "execution_count": 217,
   "id": "473ec363",
   "metadata": {},
   "outputs": [],
   "source": [
    "# key :value\n",
    "#key --> unique\n",
    "\n",
    "dict = {'Ahmed':'AI','Aya':'cs','john':'web','mohamed':'AI'}"
   ]
  },
  {
   "cell_type": "code",
   "execution_count": 218,
   "id": "27485437",
   "metadata": {},
   "outputs": [
    {
     "data": {
      "text/plain": [
       "{'Ahmed': 'AI', 'Aya': 'cs', 'john': 'web', 'mohamed': 'AI'}"
      ]
     },
     "execution_count": 218,
     "metadata": {},
     "output_type": "execute_result"
    }
   ],
   "source": [
    "dict"
   ]
  },
  {
   "cell_type": "code",
   "execution_count": 219,
   "id": "343604bb",
   "metadata": {},
   "outputs": [
    {
     "data": {
      "text/plain": [
       "'AI'"
      ]
     },
     "execution_count": 219,
     "metadata": {},
     "output_type": "execute_result"
    }
   ],
   "source": [
    "dict['Ahmed'] # search with key"
   ]
  },
  {
   "cell_type": "code",
   "execution_count": 220,
   "id": "470bf367",
   "metadata": {},
   "outputs": [
    {
     "ename": "KeyError",
     "evalue": "'AI'",
     "output_type": "error",
     "traceback": [
      "\u001b[1;31m---------------------------------------------------------------------------\u001b[0m",
      "\u001b[1;31mKeyError\u001b[0m                                  Traceback (most recent call last)",
      "\u001b[1;32m~\\AppData\\Local\\Temp\\ipykernel_24880\\4163194796.py\u001b[0m in \u001b[0;36m<module>\u001b[1;34m\u001b[0m\n\u001b[1;32m----> 1\u001b[1;33m \u001b[0mdict\u001b[0m\u001b[1;33m[\u001b[0m\u001b[1;34m'AI'\u001b[0m\u001b[1;33m]\u001b[0m\u001b[1;33m\u001b[0m\u001b[1;33m\u001b[0m\u001b[0m\n\u001b[0m",
      "\u001b[1;31mKeyError\u001b[0m: 'AI'"
     ]
    }
   ],
   "source": [
    "dict['AI'] #can not search by value"
   ]
  },
  {
   "cell_type": "code",
   "execution_count": 221,
   "id": "c638b6b0",
   "metadata": {},
   "outputs": [
    {
     "data": {
      "text/plain": [
       "dict_keys(['Ahmed', 'Aya', 'john', 'mohamed'])"
      ]
     },
     "execution_count": 221,
     "metadata": {},
     "output_type": "execute_result"
    }
   ],
   "source": [
    "dict.keys()"
   ]
  },
  {
   "cell_type": "code",
   "execution_count": 222,
   "id": "4cd22260",
   "metadata": {},
   "outputs": [
    {
     "data": {
      "text/plain": [
       "dict_values(['AI', 'cs', 'web', 'AI'])"
      ]
     },
     "execution_count": 222,
     "metadata": {},
     "output_type": "execute_result"
    }
   ],
   "source": [
    "dict.values()"
   ]
  },
  {
   "cell_type": "code",
   "execution_count": 223,
   "id": "4c4bcc45",
   "metadata": {},
   "outputs": [],
   "source": [
    "dict['Ahmed'] ='ML'"
   ]
  },
  {
   "cell_type": "code",
   "execution_count": 224,
   "id": "a833440c",
   "metadata": {},
   "outputs": [
    {
     "data": {
      "text/plain": [
       "{'Ahmed': 'ML', 'Aya': 'cs', 'john': 'web', 'mohamed': 'AI'}"
      ]
     },
     "execution_count": 224,
     "metadata": {},
     "output_type": "execute_result"
    }
   ],
   "source": [
    "dict"
   ]
  },
  {
   "cell_type": "code",
   "execution_count": 225,
   "id": "e9aad085",
   "metadata": {},
   "outputs": [
    {
     "data": {
      "text/plain": [
       "True"
      ]
     },
     "execution_count": 225,
     "metadata": {},
     "output_type": "execute_result"
    }
   ],
   "source": [
    "'Aya' in dict"
   ]
  },
  {
   "cell_type": "code",
   "execution_count": 226,
   "id": "4f4d6d11",
   "metadata": {},
   "outputs": [
    {
     "data": {
      "text/plain": [
       "False"
      ]
     },
     "execution_count": 226,
     "metadata": {},
     "output_type": "execute_result"
    }
   ],
   "source": [
    "'ML' in dict"
   ]
  },
  {
   "cell_type": "code",
   "execution_count": 227,
   "id": "ef42b4f1",
   "metadata": {},
   "outputs": [],
   "source": [
    "del(dict['Ahmed'])"
   ]
  },
  {
   "cell_type": "code",
   "execution_count": 228,
   "id": "b6edb734",
   "metadata": {},
   "outputs": [
    {
     "data": {
      "text/plain": [
       "{'Aya': 'cs', 'john': 'web', 'mohamed': 'AI'}"
      ]
     },
     "execution_count": 228,
     "metadata": {},
     "output_type": "execute_result"
    }
   ],
   "source": [
    "dict"
   ]
  },
  {
   "cell_type": "code",
   "execution_count": 248,
   "id": "b137cb50",
   "metadata": {},
   "outputs": [],
   "source": [
    "dict2 = {\n",
    "    'Grades': [1,2,3],\n",
    "    'sub' : ['AI','CS','ML']\n",
    "}"
   ]
  },
  {
   "cell_type": "code",
   "execution_count": 249,
   "id": "9cbbd017",
   "metadata": {},
   "outputs": [
    {
     "data": {
      "text/plain": [
       "{'Grades': [1, 2, 3], 'sub': ['AI', 'CS', 'ML']}"
      ]
     },
     "execution_count": 249,
     "metadata": {},
     "output_type": "execute_result"
    }
   ],
   "source": [
    "dict2"
   ]
  },
  {
   "cell_type": "code",
   "execution_count": 250,
   "id": "e0085578",
   "metadata": {},
   "outputs": [
    {
     "data": {
      "text/plain": [
       "{}"
      ]
     },
     "execution_count": 250,
     "metadata": {},
     "output_type": "execute_result"
    }
   ],
   "source": [
    "dict2.clear()\n",
    "dict2"
   ]
  },
  {
   "cell_type": "code",
   "execution_count": 231,
   "id": "2371072c",
   "metadata": {},
   "outputs": [],
   "source": [
    "dict['Ali'] = dict2"
   ]
  },
  {
   "cell_type": "code",
   "execution_count": 232,
   "id": "704bd20c",
   "metadata": {},
   "outputs": [
    {
     "data": {
      "text/plain": [
       "{'Aya': 'cs',\n",
       " 'john': 'web',\n",
       " 'mohamed': 'AI',\n",
       " 'Ali': {'Grades': [1, 2, 3], 'sub': ['AI', 'CS', 'ML']}}"
      ]
     },
     "execution_count": 232,
     "metadata": {},
     "output_type": "execute_result"
    }
   ],
   "source": [
    "dict"
   ]
  },
  {
   "cell_type": "code",
   "execution_count": 233,
   "id": "39d2e88d",
   "metadata": {},
   "outputs": [
    {
     "data": {
      "text/plain": [
       "{'Grades': [1, 2, 3], 'sub': ['AI', 'CS', 'ML']}"
      ]
     },
     "execution_count": 233,
     "metadata": {},
     "output_type": "execute_result"
    }
   ],
   "source": [
    "dict['Ali']"
   ]
  },
  {
   "cell_type": "code",
   "execution_count": 236,
   "id": "1a024cdb",
   "metadata": {},
   "outputs": [],
   "source": [
    "dict['Ali']['Grades']"
   ]
  },
  {
   "cell_type": "code",
   "execution_count": 235,
   "id": "b02570c6",
   "metadata": {},
   "outputs": [
    {
     "data": {
      "text/plain": [
       "1"
      ]
     },
     "execution_count": 235,
     "metadata": {},
     "output_type": "execute_result"
    }
   ],
   "source": [
    "dict['Ali']['Grades'][0]"
   ]
  },
  {
   "cell_type": "code",
   "execution_count": 237,
   "id": "1c84eb16",
   "metadata": {},
   "outputs": [],
   "source": [
    "lsk = dict['Ali']['Grades']"
   ]
  },
  {
   "cell_type": "code",
   "execution_count": 239,
   "id": "3254de95",
   "metadata": {},
   "outputs": [
    {
     "data": {
      "text/plain": [
       "list"
      ]
     },
     "execution_count": 239,
     "metadata": {},
     "output_type": "execute_result"
    }
   ],
   "source": [
    "type(lsk)"
   ]
  },
  {
   "cell_type": "code",
   "execution_count": 240,
   "id": "960de4de",
   "metadata": {},
   "outputs": [
    {
     "data": {
      "text/plain": [
       "1"
      ]
     },
     "execution_count": 240,
     "metadata": {},
     "output_type": "execute_result"
    }
   ],
   "source": [
    "lsk[0]"
   ]
  },
  {
   "cell_type": "code",
   "execution_count": 241,
   "id": "ce228b1f",
   "metadata": {},
   "outputs": [
    {
     "data": {
      "text/plain": [
       "{1, 2, 3, 4}"
      ]
     },
     "execution_count": 241,
     "metadata": {},
     "output_type": "execute_result"
    }
   ],
   "source": [
    "#set\n",
    "s = {1,2,3,4,1,2}\n",
    "s"
   ]
  },
  {
   "cell_type": "code",
   "execution_count": 242,
   "id": "3bc8ed31",
   "metadata": {},
   "outputs": [
    {
     "data": {
      "text/plain": [
       "{1, 2, 7, 9, 10, 13, 90}"
      ]
     },
     "execution_count": 242,
     "metadata": {},
     "output_type": "execute_result"
    }
   ],
   "source": [
    "s = {10,13,2,7,9,1,90}\n",
    "s"
   ]
  },
  {
   "cell_type": "code",
   "execution_count": 244,
   "id": "ef2e54f5",
   "metadata": {},
   "outputs": [
    {
     "data": {
      "text/plain": [
       "{'Apple', 'B', 'Cat', 'a', 'b', 'cat'}"
      ]
     },
     "execution_count": 244,
     "metadata": {},
     "output_type": "execute_result"
    }
   ],
   "source": [
    "s = {'a','B','Apple','cat','Cat','b'}\n",
    "s"
   ]
  },
  {
   "cell_type": "code",
   "execution_count": 245,
   "id": "e634f8ab",
   "metadata": {},
   "outputs": [
    {
     "data": {
      "text/plain": [
       "6"
      ]
     },
     "execution_count": 245,
     "metadata": {},
     "output_type": "execute_result"
    }
   ],
   "source": [
    "len(s)"
   ]
  },
  {
   "cell_type": "code",
   "execution_count": 247,
   "id": "2ce02ae9",
   "metadata": {},
   "outputs": [
    {
     "data": {
      "text/plain": [
       "{1, 2, 3, 'a', 'd', 's'}"
      ]
     },
     "execution_count": 247,
     "metadata": {},
     "output_type": "execute_result"
    }
   ],
   "source": [
    "s = {1,2,3,'a','s','d',3}\n",
    "s"
   ]
  },
  {
   "cell_type": "code",
   "execution_count": null,
   "id": "c8f78600",
   "metadata": {},
   "outputs": [],
   "source": []
  },
  {
   "cell_type": "code",
   "execution_count": null,
   "id": "a0b7c28b",
   "metadata": {},
   "outputs": [],
   "source": []
  }
 ],
 "metadata": {
  "kernelspec": {
   "display_name": "Python 3 (ipykernel)",
   "language": "python",
   "name": "python3"
  },
  "language_info": {
   "codemirror_mode": {
    "name": "ipython",
    "version": 3
   },
   "file_extension": ".py",
   "mimetype": "text/x-python",
   "name": "python",
   "nbconvert_exporter": "python",
   "pygments_lexer": "ipython3",
   "version": "3.9.13"
  }
 },
 "nbformat": 4,
 "nbformat_minor": 5
}
