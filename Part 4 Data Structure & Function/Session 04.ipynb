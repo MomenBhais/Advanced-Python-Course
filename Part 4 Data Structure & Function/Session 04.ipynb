{
 "cells": [
  {
   "cell_type": "markdown",
   "id": "b422dd1f",
   "metadata": {},
   "source": [
    "## Functions"
   ]
  },
  {
   "cell_type": "code",
   "execution_count": 1,
   "id": "38139b4f",
   "metadata": {},
   "outputs": [],
   "source": [
    "# implementation --> function\n",
    "\n",
    "def is_even(i):\n",
    "    \"\"\"\n",
    "    This is a fun to check if number is even or odd\n",
    "    this fun takes one argument.\n",
    "    \"\"\"\n",
    "    print('Chech if number is even or odd')\n",
    "    \n",
    "    if i%2 == 0:\n",
    "        print(i,'is even')\n",
    "    else:\n",
    "        print(i,'is odd')"
   ]
  },
  {
   "cell_type": "code",
   "execution_count": 2,
   "id": "ba93b6b2",
   "metadata": {},
   "outputs": [
    {
     "name": "stdout",
     "output_type": "stream",
     "text": [
      "Chech if number is even or odd\n",
      "4 is even\n"
     ]
    }
   ],
   "source": [
    "#call the function\n",
    "is_even(4)"
   ]
  },
  {
   "cell_type": "code",
   "execution_count": 3,
   "id": "981de686",
   "metadata": {},
   "outputs": [
    {
     "name": "stdout",
     "output_type": "stream",
     "text": [
      "Chech if number is even or odd\n",
      "5 is odd\n"
     ]
    }
   ],
   "source": [
    "#call the function\n",
    "is_even(5)"
   ]
  },
  {
   "cell_type": "code",
   "execution_count": 4,
   "id": "541d29e0",
   "metadata": {},
   "outputs": [
    {
     "name": "stdout",
     "output_type": "stream",
     "text": [
      "Chech if number is even or odd\n",
      "5 is odd\n"
     ]
    }
   ],
   "source": [
    "y = is_even(5)"
   ]
  },
  {
   "cell_type": "code",
   "execution_count": 6,
   "id": "ae16b070",
   "metadata": {},
   "outputs": [
    {
     "data": {
      "text/plain": [
       "NoneType"
      ]
     },
     "execution_count": 6,
     "metadata": {},
     "output_type": "execute_result"
    }
   ],
   "source": [
    "type(y)"
   ]
  },
  {
   "cell_type": "code",
   "execution_count": 8,
   "id": "81ce870f",
   "metadata": {},
   "outputs": [],
   "source": [
    "# implementation --> function\n",
    "\n",
    "def is_even2(i):\n",
    "    \"\"\"\n",
    "    This is a fun to check if number is even or odd\n",
    "    this fun takes one argument.\n",
    "    \"\"\"\n",
    "    print('Chech if number is even or odd')\n",
    "    return i%2 == 0"
   ]
  },
  {
   "cell_type": "code",
   "execution_count": 9,
   "id": "7f7f7074",
   "metadata": {},
   "outputs": [
    {
     "name": "stdout",
     "output_type": "stream",
     "text": [
      "Chech if number is even or odd\n"
     ]
    },
    {
     "data": {
      "text/plain": [
       "True"
      ]
     },
     "execution_count": 9,
     "metadata": {},
     "output_type": "execute_result"
    }
   ],
   "source": [
    "is_even2(4)"
   ]
  },
  {
   "cell_type": "code",
   "execution_count": 10,
   "id": "a7e6e7aa",
   "metadata": {},
   "outputs": [
    {
     "name": "stdout",
     "output_type": "stream",
     "text": [
      "Chech if number is even or odd\n"
     ]
    }
   ],
   "source": [
    "z = is_even2(4)"
   ]
  },
  {
   "cell_type": "code",
   "execution_count": 11,
   "id": "b83597e3",
   "metadata": {},
   "outputs": [
    {
     "data": {
      "text/plain": [
       "True"
      ]
     },
     "execution_count": 11,
     "metadata": {},
     "output_type": "execute_result"
    }
   ],
   "source": [
    "z"
   ]
  },
  {
   "cell_type": "code",
   "execution_count": 12,
   "id": "0e673ed9",
   "metadata": {},
   "outputs": [
    {
     "data": {
      "text/plain": [
       "bool"
      ]
     },
     "execution_count": 12,
     "metadata": {},
     "output_type": "execute_result"
    }
   ],
   "source": [
    "type(z)"
   ]
  },
  {
   "cell_type": "code",
   "execution_count": 37,
   "id": "2dae79b2",
   "metadata": {},
   "outputs": [],
   "source": [
    "def add_(x,y):\n",
    "    result = x+y \n",
    "    #print('the res is ', result)\n",
    "    return result"
   ]
  },
  {
   "cell_type": "code",
   "execution_count": 33,
   "id": "9075c28a",
   "metadata": {},
   "outputs": [
    {
     "name": "stdout",
     "output_type": "stream",
     "text": [
      "the res is  3\n"
     ]
    }
   ],
   "source": [
    "r = add_(1,2)"
   ]
  },
  {
   "cell_type": "code",
   "execution_count": 27,
   "id": "8e9a1b61",
   "metadata": {},
   "outputs": [
    {
     "data": {
      "text/plain": [
       "int"
      ]
     },
     "execution_count": 27,
     "metadata": {},
     "output_type": "execute_result"
    }
   ],
   "source": [
    "type(r)"
   ]
  },
  {
   "cell_type": "code",
   "execution_count": 29,
   "id": "65f99f68",
   "metadata": {},
   "outputs": [
    {
     "name": "stdout",
     "output_type": "stream",
     "text": [
      "3\n"
     ]
    }
   ],
   "source": [
    "print(r)"
   ]
  },
  {
   "cell_type": "code",
   "execution_count": 36,
   "id": "09b19bd8",
   "metadata": {},
   "outputs": [
    {
     "name": "stdout",
     "output_type": "stream",
     "text": [
      "the res is  348778935683476\n"
     ]
    },
    {
     "data": {
      "text/plain": [
       "348778935683476"
      ]
     },
     "execution_count": 36,
     "metadata": {},
     "output_type": "execute_result"
    }
   ],
   "source": [
    "add_(1000000,348778934683476)"
   ]
  },
  {
   "cell_type": "code",
   "execution_count": 86,
   "id": "5454ed86",
   "metadata": {},
   "outputs": [],
   "source": [
    "x = 12\n",
    "y=8 \n",
    "t = add_(x,y)"
   ]
  },
  {
   "cell_type": "code",
   "execution_count": 87,
   "id": "d68b3385",
   "metadata": {},
   "outputs": [
    {
     "data": {
      "text/plain": [
       "20"
      ]
     },
     "execution_count": 87,
     "metadata": {},
     "output_type": "execute_result"
    }
   ],
   "source": [
    "t"
   ]
  },
  {
   "cell_type": "code",
   "execution_count": 79,
   "id": "b152b563",
   "metadata": {},
   "outputs": [],
   "source": [
    "def func_a(): # no parameters\n",
    "    print('Inside func_a')"
   ]
  },
  {
   "cell_type": "code",
   "execution_count": 80,
   "id": "b4915557",
   "metadata": {},
   "outputs": [
    {
     "name": "stdout",
     "output_type": "stream",
     "text": [
      "Inside func_a\n"
     ]
    }
   ],
   "source": [
    "func_a()"
   ]
  },
  {
   "cell_type": "code",
   "execution_count": 81,
   "id": "30596628",
   "metadata": {},
   "outputs": [],
   "source": [
    "def func_b(y): #one argument\n",
    "    print('inside func_b')\n",
    "    return y"
   ]
  },
  {
   "cell_type": "code",
   "execution_count": 82,
   "id": "b293d0b6",
   "metadata": {},
   "outputs": [
    {
     "name": "stdout",
     "output_type": "stream",
     "text": [
      "inside func_b\n"
     ]
    },
    {
     "data": {
      "text/plain": [
       "1"
      ]
     },
     "execution_count": 82,
     "metadata": {},
     "output_type": "execute_result"
    }
   ],
   "source": [
    "func_b(1)"
   ]
  },
  {
   "cell_type": "code",
   "execution_count": 75,
   "id": "448003be",
   "metadata": {},
   "outputs": [
    {
     "name": "stdout",
     "output_type": "stream",
     "text": [
      "inside func_b\n"
     ]
    }
   ],
   "source": [
    "b = func_b(1)"
   ]
  },
  {
   "cell_type": "code",
   "execution_count": 57,
   "id": "687116d0",
   "metadata": {},
   "outputs": [
    {
     "name": "stdout",
     "output_type": "stream",
     "text": [
      "inside func_b\n"
     ]
    },
    {
     "data": {
      "text/plain": [
       "11"
      ]
     },
     "execution_count": 57,
     "metadata": {},
     "output_type": "execute_result"
    }
   ],
   "source": [
    "func_b(1)+ 10"
   ]
  },
  {
   "cell_type": "code",
   "execution_count": 69,
   "id": "c012b0af",
   "metadata": {},
   "outputs": [],
   "source": [
    "def func_c(z):\n",
    "    print('inside func_c')\n",
    "    return z() # return z as fuction of 0 parameters"
   ]
  },
  {
   "cell_type": "code",
   "execution_count": 70,
   "id": "b3c12f92",
   "metadata": {},
   "outputs": [
    {
     "name": "stdout",
     "output_type": "stream",
     "text": [
      "Inside func_a\n"
     ]
    }
   ],
   "source": [
    "func_a()"
   ]
  },
  {
   "cell_type": "code",
   "execution_count": 71,
   "id": "3d5fa12d",
   "metadata": {
    "collapsed": true
   },
   "outputs": [
    {
     "name": "stdout",
     "output_type": "stream",
     "text": [
      "Inside func_a\n",
      "inside func_c\n"
     ]
    },
    {
     "ename": "TypeError",
     "evalue": "'NoneType' object is not callable",
     "output_type": "error",
     "traceback": [
      "\u001b[1;31m---------------------------------------------------------------------------\u001b[0m",
      "\u001b[1;31mTypeError\u001b[0m                                 Traceback (most recent call last)",
      "\u001b[1;32m~\\AppData\\Local\\Temp\\ipykernel_10952\\941401725.py\u001b[0m in \u001b[0;36m<module>\u001b[1;34m\u001b[0m\n\u001b[1;32m----> 1\u001b[1;33m \u001b[0mfunc_c\u001b[0m\u001b[1;33m(\u001b[0m\u001b[0mfunc_a\u001b[0m\u001b[1;33m(\u001b[0m\u001b[1;33m)\u001b[0m\u001b[1;33m)\u001b[0m\u001b[1;33m\u001b[0m\u001b[1;33m\u001b[0m\u001b[0m\n\u001b[0m",
      "\u001b[1;32m~\\AppData\\Local\\Temp\\ipykernel_10952\\492887754.py\u001b[0m in \u001b[0;36mfunc_c\u001b[1;34m(z)\u001b[0m\n\u001b[0;32m      1\u001b[0m \u001b[1;32mdef\u001b[0m \u001b[0mfunc_c\u001b[0m\u001b[1;33m(\u001b[0m\u001b[0mz\u001b[0m\u001b[1;33m)\u001b[0m\u001b[1;33m:\u001b[0m\u001b[1;33m\u001b[0m\u001b[1;33m\u001b[0m\u001b[0m\n\u001b[0;32m      2\u001b[0m     \u001b[0mprint\u001b[0m\u001b[1;33m(\u001b[0m\u001b[1;34m'inside func_c'\u001b[0m\u001b[1;33m)\u001b[0m\u001b[1;33m\u001b[0m\u001b[1;33m\u001b[0m\u001b[0m\n\u001b[1;32m----> 3\u001b[1;33m     \u001b[1;32mreturn\u001b[0m \u001b[0mz\u001b[0m\u001b[1;33m(\u001b[0m\u001b[1;33m)\u001b[0m \u001b[1;31m# return z as fuction of 0 parameters\u001b[0m\u001b[1;33m\u001b[0m\u001b[1;33m\u001b[0m\u001b[0m\n\u001b[0m",
      "\u001b[1;31mTypeError\u001b[0m: 'NoneType' object is not callable"
     ]
    }
   ],
   "source": [
    "func_c(func_a())"
   ]
  },
  {
   "cell_type": "code",
   "execution_count": 88,
   "id": "870d4e66",
   "metadata": {},
   "outputs": [],
   "source": [
    "def big_func(x):\n",
    "    def small_func(): # local scope\n",
    "        x = 'inside a small func'\n",
    "        print('x in small func is ',x)\n",
    "        \n",
    "    #call small_func inside the big_func\n",
    "    small_func()\n",
    "    x = x+1\n",
    "    print('x in big function is ',x)\n",
    "    return x"
   ]
  },
  {
   "cell_type": "code",
   "execution_count": 89,
   "id": "1f90c0ee",
   "metadata": {},
   "outputs": [
    {
     "name": "stdout",
     "output_type": "stream",
     "text": [
      "x in small func is  inside a small func\n",
      "x in big function is  6\n"
     ]
    },
    {
     "data": {
      "text/plain": [
       "6"
      ]
     },
     "execution_count": 89,
     "metadata": {},
     "output_type": "execute_result"
    }
   ],
   "source": [
    "big_func(5)"
   ]
  },
  {
   "cell_type": "code",
   "execution_count": 90,
   "id": "5f116fa8",
   "metadata": {},
   "outputs": [
    {
     "ename": "NameError",
     "evalue": "name 'small_func' is not defined",
     "output_type": "error",
     "traceback": [
      "\u001b[1;31m---------------------------------------------------------------------------\u001b[0m",
      "\u001b[1;31mNameError\u001b[0m                                 Traceback (most recent call last)",
      "\u001b[1;32m~\\AppData\\Local\\Temp\\ipykernel_10952\\930671822.py\u001b[0m in \u001b[0;36m<module>\u001b[1;34m\u001b[0m\n\u001b[1;32m----> 1\u001b[1;33m \u001b[0msmall_func\u001b[0m\u001b[1;33m(\u001b[0m\u001b[1;33m)\u001b[0m\u001b[1;33m\u001b[0m\u001b[1;33m\u001b[0m\u001b[0m\n\u001b[0m",
      "\u001b[1;31mNameError\u001b[0m: name 'small_func' is not defined"
     ]
    }
   ],
   "source": [
    "small_func()"
   ]
  },
  {
   "cell_type": "code",
   "execution_count": 91,
   "id": "c506c36b",
   "metadata": {},
   "outputs": [
    {
     "name": "stdout",
     "output_type": "stream",
     "text": [
      "sum is  3\n"
     ]
    }
   ],
   "source": [
    "print('sum is ', 1+2)"
   ]
  },
  {
   "cell_type": "code",
   "execution_count": 95,
   "id": "7b25d0db",
   "metadata": {},
   "outputs": [],
   "source": [
    "def g(y):\n",
    "    print(x)\n",
    "    print(x+1)\n",
    "    return x+1"
   ]
  },
  {
   "cell_type": "code",
   "execution_count": 96,
   "id": "6bca20e6",
   "metadata": {},
   "outputs": [
    {
     "name": "stdout",
     "output_type": "stream",
     "text": [
      "5\n",
      "6\n",
      "5\n"
     ]
    }
   ],
   "source": [
    "x = 5\n",
    "g(x)\n",
    "print(x)"
   ]
  },
  {
   "cell_type": "code",
   "execution_count": 97,
   "id": "03dc7f51",
   "metadata": {},
   "outputs": [
    {
     "name": "stdout",
     "output_type": "stream",
     "text": [
      "5\n",
      "6\n",
      "6\n"
     ]
    }
   ],
   "source": [
    "x = 5\n",
    "x = g(x)\n",
    "print(x)"
   ]
  },
  {
   "cell_type": "code",
   "execution_count": 110,
   "id": "ed89ed79",
   "metadata": {},
   "outputs": [],
   "source": [
    "def remove_duplication(l1,l2):\n",
    "    for i in l1:\n",
    "        if i in l2:\n",
    "            l1.remove(i)        "
   ]
  },
  {
   "cell_type": "code",
   "execution_count": 111,
   "id": "bbab4bb4",
   "metadata": {},
   "outputs": [],
   "source": [
    "list_1 = [1,2,5,6]\n",
    "list_2 = [1,2,3,4]\n",
    "\n",
    "remove_duplication(list_1,list_2)"
   ]
  },
  {
   "cell_type": "code",
   "execution_count": 112,
   "id": "2173a8b8",
   "metadata": {},
   "outputs": [
    {
     "data": {
      "text/plain": [
       "[2, 5, 6]"
      ]
     },
     "execution_count": 112,
     "metadata": {},
     "output_type": "execute_result"
    }
   ],
   "source": [
    "list_1"
   ]
  },
  {
   "cell_type": "code",
   "execution_count": 113,
   "id": "8ed7fefb",
   "metadata": {},
   "outputs": [
    {
     "data": {
      "text/plain": [
       "[1, 2, 3, 4]"
      ]
     },
     "execution_count": 113,
     "metadata": {},
     "output_type": "execute_result"
    }
   ],
   "source": [
    "list_2"
   ]
  },
  {
   "cell_type": "code",
   "execution_count": 106,
   "id": "d4038ddb",
   "metadata": {},
   "outputs": [],
   "source": [
    "def remove_duplication(l1,l2):\n",
    "    copy_l1 = l1.copy()\n",
    "    for i in copy_l1:\n",
    "        if i in l2:\n",
    "            l1.remove(i)"
   ]
  },
  {
   "cell_type": "code",
   "execution_count": null,
   "id": "837b3230",
   "metadata": {},
   "outputs": [],
   "source": [
    "            \n",
    "list_1 = [2,5,6]\n",
    "list_1_copy = [1,2,5,6]\n",
    "\n",
    "list_2 = [1,2,3,4]"
   ]
  },
  {
   "cell_type": "code",
   "execution_count": 107,
   "id": "5d64c38b",
   "metadata": {},
   "outputs": [],
   "source": [
    "list_1 = [1,2,5,6]\n",
    "list_2 = [1,2,3,4]\n",
    "\n",
    "remove_duplication(list_1,list_2)"
   ]
  },
  {
   "cell_type": "code",
   "execution_count": 108,
   "id": "98ede531",
   "metadata": {},
   "outputs": [
    {
     "data": {
      "text/plain": [
       "[5, 6]"
      ]
     },
     "execution_count": 108,
     "metadata": {},
     "output_type": "execute_result"
    }
   ],
   "source": [
    "list_1"
   ]
  },
  {
   "cell_type": "code",
   "execution_count": 109,
   "id": "f219db4b",
   "metadata": {},
   "outputs": [
    {
     "data": {
      "text/plain": [
       "[3, 4]"
      ]
     },
     "execution_count": 109,
     "metadata": {},
     "output_type": "execute_result"
    }
   ],
   "source": [
    "list_2"
   ]
  },
  {
   "cell_type": "code",
   "execution_count": 114,
   "id": "af9ec440",
   "metadata": {},
   "outputs": [],
   "source": [
    "def find_max(p):\n",
    "    return max(p) # built in function"
   ]
  },
  {
   "cell_type": "code",
   "execution_count": 115,
   "id": "f1a86311",
   "metadata": {},
   "outputs": [
    {
     "data": {
      "text/plain": [
       "20"
      ]
     },
     "execution_count": 115,
     "metadata": {},
     "output_type": "execute_result"
    }
   ],
   "source": [
    "l = [1,10,20,7,4,2]\n",
    "find_max(l)"
   ]
  },
  {
   "cell_type": "code",
   "execution_count": 119,
   "id": "fa65991f",
   "metadata": {},
   "outputs": [
    {
     "data": {
      "text/plain": [
       "20"
      ]
     },
     "execution_count": 119,
     "metadata": {},
     "output_type": "execute_result"
    }
   ],
   "source": [
    "max(l)"
   ]
  },
  {
   "cell_type": "code",
   "execution_count": 116,
   "id": "bd95e08d",
   "metadata": {},
   "outputs": [],
   "source": [
    "def find_min(p):\n",
    "    return min(p) # built in function"
   ]
  },
  {
   "cell_type": "code",
   "execution_count": 117,
   "id": "bb24dfde",
   "metadata": {},
   "outputs": [
    {
     "data": {
      "text/plain": [
       "1"
      ]
     },
     "execution_count": 117,
     "metadata": {},
     "output_type": "execute_result"
    }
   ],
   "source": [
    "l = [1,10,20,7,4,2]\n",
    "find_min(l)"
   ]
  },
  {
   "cell_type": "code",
   "execution_count": 118,
   "id": "f93d280f",
   "metadata": {},
   "outputs": [
    {
     "data": {
      "text/plain": [
       "1"
      ]
     },
     "execution_count": 118,
     "metadata": {},
     "output_type": "execute_result"
    }
   ],
   "source": [
    "min(l)"
   ]
  },
  {
   "cell_type": "code",
   "execution_count": 127,
   "id": "5be16121",
   "metadata": {},
   "outputs": [],
   "source": [
    "def rev_list(x):\n",
    "    z = x.reverse()\n",
    "    return z"
   ]
  },
  {
   "cell_type": "code",
   "execution_count": 128,
   "id": "f46456bc",
   "metadata": {},
   "outputs": [],
   "source": [
    "rev_list(l)"
   ]
  },
  {
   "cell_type": "code",
   "execution_count": 129,
   "id": "1ad40338",
   "metadata": {},
   "outputs": [
    {
     "data": {
      "text/plain": [
       "[2, 4, 7, 20, 10, 1]"
      ]
     },
     "execution_count": 129,
     "metadata": {},
     "output_type": "execute_result"
    }
   ],
   "source": [
    "l"
   ]
  },
  {
   "cell_type": "code",
   "execution_count": 130,
   "id": "a61bb11b",
   "metadata": {},
   "outputs": [],
   "source": [
    "l4= [1,10,20,7,4,2]"
   ]
  },
  {
   "cell_type": "code",
   "execution_count": 131,
   "id": "2ce4159a",
   "metadata": {},
   "outputs": [],
   "source": [
    "l4.reverse()"
   ]
  },
  {
   "cell_type": "code",
   "execution_count": 132,
   "id": "08f054d1",
   "metadata": {},
   "outputs": [
    {
     "data": {
      "text/plain": [
       "[2, 4, 7, 20, 10, 1]"
      ]
     },
     "execution_count": 132,
     "metadata": {},
     "output_type": "execute_result"
    }
   ],
   "source": [
    "l4"
   ]
  },
  {
   "cell_type": "code",
   "execution_count": 134,
   "id": "4a0ff737",
   "metadata": {},
   "outputs": [],
   "source": [
    "lo = [1,2,3,2,1,1,1,3,4,5,7,9]\n",
    "\n",
    "m = set(lo)"
   ]
  },
  {
   "cell_type": "code",
   "execution_count": 136,
   "id": "05d0db15",
   "metadata": {},
   "outputs": [
    {
     "data": {
      "text/plain": [
       "set"
      ]
     },
     "execution_count": 136,
     "metadata": {},
     "output_type": "execute_result"
    }
   ],
   "source": [
    "type(m)"
   ]
  },
  {
   "cell_type": "code",
   "execution_count": 137,
   "id": "18bc6dbd",
   "metadata": {},
   "outputs": [
    {
     "data": {
      "text/plain": [
       "[1, 2, 3, 4, 5, 7, 9]"
      ]
     },
     "execution_count": 137,
     "metadata": {},
     "output_type": "execute_result"
    }
   ],
   "source": [
    "list(m)"
   ]
  },
  {
   "cell_type": "code",
   "execution_count": 138,
   "id": "2170c5e0",
   "metadata": {},
   "outputs": [],
   "source": [
    "def remove_duplication2(x):\n",
    "    return list(set(x))"
   ]
  },
  {
   "cell_type": "code",
   "execution_count": 139,
   "id": "325c985e",
   "metadata": {},
   "outputs": [
    {
     "data": {
      "text/plain": [
       "[1, 2, 3, 4, 5, 7, 9]"
      ]
     },
     "execution_count": 139,
     "metadata": {},
     "output_type": "execute_result"
    }
   ],
   "source": [
    "lo = [1,2,3,2,1,1,1,3,4,5,7,9]\n",
    "\n",
    "remove_duplication2(lo)"
   ]
  },
  {
   "cell_type": "code",
   "execution_count": 140,
   "id": "5884bf5b",
   "metadata": {},
   "outputs": [],
   "source": [
    "lo = [1,2,3,2,1,1,1,3,4,5,7,9]\n",
    "\n",
    "def remove_duplication3(l):\n",
    "    new_list = []\n",
    "    for i in l:\n",
    "        if i not in new_list:\n",
    "            new_list.append(i)\n",
    "    return new_list"
   ]
  },
  {
   "cell_type": "code",
   "execution_count": 141,
   "id": "76075e03",
   "metadata": {},
   "outputs": [
    {
     "data": {
      "text/plain": [
       "[1, 2, 3, 4, 5, 7, 9]"
      ]
     },
     "execution_count": 141,
     "metadata": {},
     "output_type": "execute_result"
    }
   ],
   "source": [
    "remove_duplication3(lo)"
   ]
  },
  {
   "cell_type": "code",
   "execution_count": 142,
   "id": "00edd3b2",
   "metadata": {},
   "outputs": [],
   "source": [
    "#map\n",
    "def double(n):\n",
    "    return n * 2"
   ]
  },
  {
   "cell_type": "code",
   "execution_count": 143,
   "id": "e3dd6862",
   "metadata": {},
   "outputs": [
    {
     "data": {
      "text/plain": [
       "4"
      ]
     },
     "execution_count": 143,
     "metadata": {},
     "output_type": "execute_result"
    }
   ],
   "source": [
    "u = 2\n",
    "double(2)"
   ]
  },
  {
   "cell_type": "code",
   "execution_count": 144,
   "id": "d6474bc5",
   "metadata": {},
   "outputs": [
    {
     "data": {
      "text/plain": [
       "[2, 4, 8, 3, 2, 4, 8, 3]"
      ]
     },
     "execution_count": 144,
     "metadata": {},
     "output_type": "execute_result"
    }
   ],
   "source": [
    "nums = [2,4,8,3]\n",
    "double(nums)"
   ]
  },
  {
   "cell_type": "code",
   "execution_count": 145,
   "id": "473d484c",
   "metadata": {},
   "outputs": [],
   "source": [
    "result = map(double,nums)"
   ]
  },
  {
   "cell_type": "code",
   "execution_count": 147,
   "id": "56295ee6",
   "metadata": {},
   "outputs": [
    {
     "data": {
      "text/plain": [
       "[4, 8, 16, 6]"
      ]
     },
     "execution_count": 147,
     "metadata": {},
     "output_type": "execute_result"
    }
   ],
   "source": [
    "list(result)"
   ]
  },
  {
   "cell_type": "code",
   "execution_count": 152,
   "id": "dc0952c2",
   "metadata": {},
   "outputs": [],
   "source": [
    "dict_ = {'a': 3 , 'b' : 6}\n",
    "result2 = map(double,dict_.values())"
   ]
  },
  {
   "cell_type": "code",
   "execution_count": 154,
   "id": "1c743fad",
   "metadata": {},
   "outputs": [
    {
     "data": {
      "text/plain": [
       "[6, 12]"
      ]
     },
     "execution_count": 154,
     "metadata": {},
     "output_type": "execute_result"
    }
   ],
   "source": [
    "list(result2)"
   ]
  },
  {
   "cell_type": "code",
   "execution_count": 155,
   "id": "45ba16b2",
   "metadata": {},
   "outputs": [],
   "source": [
    "#lambda fuction\n",
    "# anonymous fuction\n",
    "#- Has No name\n",
    "#- call in one line without defining it\n",
    "#- you can use it to return data from another function\n",
    "#- simple function , single expression NOT Block of code"
   ]
  },
  {
   "cell_type": "code",
   "execution_count": 156,
   "id": "5a42cd0e",
   "metadata": {},
   "outputs": [],
   "source": [
    "nums = [1,2,3,4,5]\n",
    "double_nums = map(lambda x:x*2,nums)"
   ]
  },
  {
   "cell_type": "code",
   "execution_count": 157,
   "id": "22704344",
   "metadata": {},
   "outputs": [
    {
     "data": {
      "text/plain": [
       "[2, 4, 6, 8, 10]"
      ]
     },
     "execution_count": 157,
     "metadata": {},
     "output_type": "execute_result"
    }
   ],
   "source": [
    "list(double_nums)"
   ]
  },
  {
   "cell_type": "code",
   "execution_count": 165,
   "id": "d4045e64",
   "metadata": {},
   "outputs": [],
   "source": [
    "def say_hello(name,age):\n",
    "    return f'Hello {name} your age is {age}'"
   ]
  },
  {
   "cell_type": "code",
   "execution_count": 167,
   "id": "b6d3c1a6",
   "metadata": {},
   "outputs": [
    {
     "data": {
      "text/plain": [
       "'Hello ahmed your age is 25'"
      ]
     },
     "execution_count": 167,
     "metadata": {},
     "output_type": "execute_result"
    }
   ],
   "source": [
    "say_hello('ahmed',25)"
   ]
  },
  {
   "cell_type": "code",
   "execution_count": 168,
   "id": "232e01d0",
   "metadata": {},
   "outputs": [],
   "source": [
    "hello = lambda name, age : f'Hello {name} your age is {age}'"
   ]
  },
  {
   "cell_type": "code",
   "execution_count": 169,
   "id": "142910ea",
   "metadata": {},
   "outputs": [
    {
     "data": {
      "text/plain": [
       "'Hello ahmed your age is 25'"
      ]
     },
     "execution_count": 169,
     "metadata": {},
     "output_type": "execute_result"
    }
   ],
   "source": [
    "hello('ahmed', 25)"
   ]
  },
  {
   "cell_type": "code",
   "execution_count": 172,
   "id": "2bfbf098",
   "metadata": {},
   "outputs": [],
   "source": [
    "# implementation --> function\n",
    "\n",
    "def is_even(i):\n",
    "    return i%2 == 0"
   ]
  },
  {
   "cell_type": "code",
   "execution_count": 174,
   "id": "991ce509",
   "metadata": {},
   "outputs": [],
   "source": [
    "nums = [2,4,6,7,1]\n",
    "# filter function\n",
    "even_numbers = filter(is_even,nums)"
   ]
  },
  {
   "cell_type": "code",
   "execution_count": 176,
   "id": "c328114d",
   "metadata": {},
   "outputs": [
    {
     "data": {
      "text/plain": [
       "[2, 4, 6]"
      ]
     },
     "execution_count": 176,
     "metadata": {},
     "output_type": "execute_result"
    }
   ],
   "source": [
    "list(even_numbers)"
   ]
  },
  {
   "cell_type": "code",
   "execution_count": 177,
   "id": "584ea6cc",
   "metadata": {},
   "outputs": [
    {
     "data": {
      "text/plain": [
       "[True, True, True, False, False]"
      ]
     },
     "execution_count": 177,
     "metadata": {},
     "output_type": "execute_result"
    }
   ],
   "source": [
    "result3 = map(is_even,nums)\n",
    "list(result3)"
   ]
  },
  {
   "cell_type": "code",
   "execution_count": 179,
   "id": "622290a4",
   "metadata": {},
   "outputs": [],
   "source": [
    "def is_odd(i):\n",
    "    return i%2 != 0"
   ]
  },
  {
   "cell_type": "code",
   "execution_count": 180,
   "id": "27bfb23e",
   "metadata": {},
   "outputs": [],
   "source": [
    "nums2 = [1,2,4,7,8]\n",
    "odd_numbers = filter(is_odd,nums2)"
   ]
  },
  {
   "cell_type": "code",
   "execution_count": 181,
   "id": "01ac636f",
   "metadata": {},
   "outputs": [
    {
     "data": {
      "text/plain": [
       "[1, 7]"
      ]
     },
     "execution_count": 181,
     "metadata": {},
     "output_type": "execute_result"
    }
   ],
   "source": [
    "list(odd_numbers)"
   ]
  },
  {
   "cell_type": "markdown",
   "id": "0919e53b",
   "metadata": {},
   "source": [
    "## File Handling"
   ]
  },
  {
   "cell_type": "code",
   "execution_count": 183,
   "id": "b8154d0d",
   "metadata": {},
   "outputs": [],
   "source": [
    "#open file\n",
    "f = open(\"C:/Users/LENOVO/Downloads/try.txt\")"
   ]
  },
  {
   "cell_type": "code",
   "execution_count": 185,
   "id": "3268dcb4",
   "metadata": {},
   "outputs": [],
   "source": [
    "#open file + read file\n",
    "f = open(\"C:/Users/LENOVO/Downloads/try.txt\",'r') # r for read the file"
   ]
  },
  {
   "cell_type": "code",
   "execution_count": 186,
   "id": "3a9d9a6e",
   "metadata": {},
   "outputs": [
    {
     "name": "stdout",
     "output_type": "stream",
     "text": [
      "this is a test file\n",
      "welcome to pyhton\n",
      "thanks!\n"
     ]
    }
   ],
   "source": [
    "print(f.read())"
   ]
  },
  {
   "cell_type": "code",
   "execution_count": 190,
   "id": "10de5b6a",
   "metadata": {},
   "outputs": [
    {
     "name": "stdout",
     "output_type": "stream",
     "text": [
      "this \n"
     ]
    }
   ],
   "source": [
    "f = open(\"C:/Users/LENOVO/Downloads/try.txt\",'r')\n",
    "print(f.read(5))"
   ]
  },
  {
   "cell_type": "code",
   "execution_count": 191,
   "id": "5a2e451a",
   "metadata": {},
   "outputs": [
    {
     "name": "stdout",
     "output_type": "stream",
     "text": [
      "this is a test file\n",
      "\n"
     ]
    }
   ],
   "source": [
    "f = open(\"C:/Users/LENOVO/Downloads/try.txt\",'r')\n",
    "print(f.readline())"
   ]
  },
  {
   "cell_type": "code",
   "execution_count": 192,
   "id": "faf530ab",
   "metadata": {},
   "outputs": [],
   "source": [
    "f.close()"
   ]
  },
  {
   "cell_type": "code",
   "execution_count": 193,
   "id": "f5b7236a",
   "metadata": {},
   "outputs": [],
   "source": [
    "f = open(\"C:/Users/LENOVO/Downloads/try.txt\",'a') # a for write to the file \n",
    "f.write('now you can edit your file')\n",
    "f.close()"
   ]
  },
  {
   "cell_type": "code",
   "execution_count": 194,
   "id": "345f55a1",
   "metadata": {},
   "outputs": [],
   "source": [
    "f = open(\"C:/Users/LENOVO/Downloads/try.txt\",'w') # W for Overwritting\n",
    "f.write('i deleted the content')\n",
    "f.close()"
   ]
  },
  {
   "cell_type": "code",
   "execution_count": 198,
   "id": "bd718c28",
   "metadata": {},
   "outputs": [],
   "source": [
    "#create new file\n",
    "new_f = open('new_file.txt','x') # x for create "
   ]
  },
  {
   "cell_type": "code",
   "execution_count": 199,
   "id": "cf13c004",
   "metadata": {},
   "outputs": [],
   "source": [
    "new_f = open(\"new_file.txt\",'a') # a for write to the file \n",
    "new_f.write('now you can edit your new file')\n",
    "new_f.close()"
   ]
  },
  {
   "cell_type": "code",
   "execution_count": 197,
   "id": "f77c1b78",
   "metadata": {},
   "outputs": [],
   "source": [
    "import os\n",
    "os.remove(\"new_file.txt\")"
   ]
  },
  {
   "cell_type": "code",
   "execution_count": 201,
   "id": "71cfad1e",
   "metadata": {},
   "outputs": [
    {
     "name": "stdout",
     "output_type": "stream",
     "text": [
      "Not found\n"
     ]
    }
   ],
   "source": [
    "if os.path.exists(\"new_file.txt\"):\n",
    "    os.remove(\"new_file.txt\")\n",
    "else:\n",
    "    print('Not found')"
   ]
  },
  {
   "cell_type": "code",
   "execution_count": null,
   "id": "8babe4e6",
   "metadata": {},
   "outputs": [],
   "source": []
  }
 ],
 "metadata": {
  "kernelspec": {
   "display_name": "Python 3 (ipykernel)",
   "language": "python",
   "name": "python3"
  },
  "language_info": {
   "codemirror_mode": {
    "name": "ipython",
    "version": 3
   },
   "file_extension": ".py",
   "mimetype": "text/x-python",
   "name": "python",
   "nbconvert_exporter": "python",
   "pygments_lexer": "ipython3",
   "version": "3.9.13"
  }
 },
 "nbformat": 4,
 "nbformat_minor": 5
}
