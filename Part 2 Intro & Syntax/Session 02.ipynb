{
 "cells": [
  {
   "cell_type": "code",
   "execution_count": 5,
   "id": "fe07c15f",
   "metadata": {},
   "outputs": [
    {
     "ename": "SyntaxError",
     "evalue": "invalid syntax (2876144644.py, line 1)",
     "output_type": "error",
     "traceback": [
      "\u001b[1;36m  File \u001b[1;32m\"C:\\Users\\LENOVO\\AppData\\Local\\Temp\\ipykernel_12412\\2876144644.py\"\u001b[1;36m, line \u001b[1;32m1\u001b[0m\n\u001b[1;33m    my data = 56\u001b[0m\n\u001b[1;37m       ^\u001b[0m\n\u001b[1;31mSyntaxError\u001b[0m\u001b[1;31m:\u001b[0m invalid syntax\n"
     ]
    }
   ],
   "source": [
    "my data = 56"
   ]
  },
  {
   "cell_type": "code",
   "execution_count": 3,
   "id": "f8a0f373",
   "metadata": {},
   "outputs": [
    {
     "ename": "SyntaxError",
     "evalue": "invalid syntax (488958312.py, line 1)",
     "output_type": "error",
     "traceback": [
      "\u001b[1;36m  File \u001b[1;32m\"C:\\Users\\LENOVO\\AppData\\Local\\Temp\\ipykernel_12412\\488958312.py\"\u001b[1;36m, line \u001b[1;32m1\u001b[0m\n\u001b[1;33m    $data = 5\u001b[0m\n\u001b[1;37m    ^\u001b[0m\n\u001b[1;31mSyntaxError\u001b[0m\u001b[1;31m:\u001b[0m invalid syntax\n"
     ]
    }
   ],
   "source": [
    "$data = 5"
   ]
  },
  {
   "cell_type": "code",
   "execution_count": 4,
   "id": "7f16e836",
   "metadata": {},
   "outputs": [
    {
     "ename": "SyntaxError",
     "evalue": "invalid syntax (3757949496.py, line 1)",
     "output_type": "error",
     "traceback": [
      "\u001b[1;36m  File \u001b[1;32m\"C:\\Users\\LENOVO\\AppData\\Local\\Temp\\ipykernel_12412\\3757949496.py\"\u001b[1;36m, line \u001b[1;32m1\u001b[0m\n\u001b[1;33m    3data = 1\u001b[0m\n\u001b[1;37m     ^\u001b[0m\n\u001b[1;31mSyntaxError\u001b[0m\u001b[1;31m:\u001b[0m invalid syntax\n"
     ]
    }
   ],
   "source": [
    "3data = 1"
   ]
  },
  {
   "cell_type": "code",
   "execution_count": 6,
   "id": "068b3826",
   "metadata": {},
   "outputs": [],
   "source": [
    "data3 = 1"
   ]
  },
  {
   "cell_type": "code",
   "execution_count": 8,
   "id": "d1856485",
   "metadata": {},
   "outputs": [],
   "source": [
    "data4 = 'hello'"
   ]
  },
  {
   "cell_type": "code",
   "execution_count": 9,
   "id": "6b068cdb",
   "metadata": {},
   "outputs": [
    {
     "ename": "SyntaxError",
     "evalue": "cannot assign to operator (3249339117.py, line 1)",
     "output_type": "error",
     "traceback": [
      "\u001b[1;36m  File \u001b[1;32m\"C:\\Users\\LENOVO\\AppData\\Local\\Temp\\ipykernel_12412\\3249339117.py\"\u001b[1;36m, line \u001b[1;32m1\u001b[0m\n\u001b[1;33m    273 + 100 = hot\u001b[0m\n\u001b[1;37m    ^\u001b[0m\n\u001b[1;31mSyntaxError\u001b[0m\u001b[1;31m:\u001b[0m cannot assign to operator\n"
     ]
    }
   ],
   "source": [
    "273 + 100 = hot"
   ]
  },
  {
   "cell_type": "code",
   "execution_count": 10,
   "id": "5079b11e",
   "metadata": {},
   "outputs": [],
   "source": [
    "hot = 273 + 100 "
   ]
  },
  {
   "cell_type": "code",
   "execution_count": 11,
   "id": "b7df7413",
   "metadata": {},
   "outputs": [],
   "source": [
    "data3 = \"hello\"\n",
    "hot = 273 + 100 --> 373\n",
    "Data = hot --> 373"
   ]
  },
  {
   "cell_type": "code",
   "execution_count": 12,
   "id": "00def4e9",
   "metadata": {},
   "outputs": [
    {
     "ename": "TypeError",
     "evalue": "can only concatenate str (not \"int\") to str",
     "output_type": "error",
     "traceback": [
      "\u001b[1;31m---------------------------------------------------------------------------\u001b[0m",
      "\u001b[1;31mTypeError\u001b[0m                                 Traceback (most recent call last)",
      "\u001b[1;32m~\\AppData\\Local\\Temp\\ipykernel_12412\\1852926742.py\u001b[0m in \u001b[0;36m<module>\u001b[1;34m\u001b[0m\n\u001b[1;32m----> 1\u001b[1;33m \u001b[0mprint\u001b[0m\u001b[1;33m(\u001b[0m\u001b[0mdata3\u001b[0m \u001b[1;33m+\u001b[0m \u001b[0mhot\u001b[0m \u001b[1;33m+\u001b[0m \u001b[0mData\u001b[0m\u001b[1;33m)\u001b[0m\u001b[1;33m\u001b[0m\u001b[1;33m\u001b[0m\u001b[0m\n\u001b[0m",
      "\u001b[1;31mTypeError\u001b[0m: can only concatenate str (not \"int\") to str"
     ]
    }
   ],
   "source": [
    "print(data3 + hot + Data)"
   ]
  },
  {
   "cell_type": "code",
   "execution_count": 14,
   "id": "d3705412",
   "metadata": {},
   "outputs": [],
   "source": [
    "data3 = \"hello\"\n",
    "data4 = \"there\""
   ]
  },
  {
   "cell_type": "code",
   "execution_count": 16,
   "id": "3b44394d",
   "metadata": {},
   "outputs": [
    {
     "data": {
      "text/plain": [
       "'hello there'"
      ]
     },
     "execution_count": 16,
     "metadata": {},
     "output_type": "execute_result"
    }
   ],
   "source": [
    "data3 + ' ' +data4"
   ]
  },
  {
   "cell_type": "code",
   "execution_count": 27,
   "id": "8591c41d",
   "metadata": {},
   "outputs": [],
   "source": [
    "s = 'Python is a high-level, general-purpose and very popular programming language. The Python programming language is being used in Web Development, Machine Learning applications, Computer Vision, along with all the cutting-edge technology in the software industry'"
   ]
  },
  {
   "cell_type": "code",
   "execution_count": 30,
   "id": "56263d62",
   "metadata": {},
   "outputs": [],
   "source": [
    "s = '''Python is a high-level, general-purpose and very popular programming language. \n",
    "The Python programming language is being used in Web Development,\n",
    "Machine Learning applications, Computer Vision, along with all the\n",
    "cutting-edge technology in the software industry'''#الثلاث سنجل كوتيشن ببداية الفقرة وثلاث بنهايتها ذلك بجعلني احط الفقرة ع اكثر من سطر"
   ]
  },
  {
   "cell_type": "code",
   "execution_count": 31,
   "id": "2f6f20f1",
   "metadata": {},
   "outputs": [
    {
     "data": {
      "text/plain": [
       "261"
      ]
     },
     "execution_count": 31,
     "metadata": {},
     "output_type": "execute_result"
    }
   ],
   "source": [
    "# 1- Print the length of the string\n",
    "len(s)"
   ]
  },
  {
   "cell_type": "code",
   "execution_count": 32,
   "id": "2ef0c25d",
   "metadata": {},
   "outputs": [
    {
     "data": {
      "text/plain": [
       "2"
      ]
     },
     "execution_count": 32,
     "metadata": {},
     "output_type": "execute_result"
    }
   ],
   "source": [
    "# 2- Print the number of times the word \"Python\" appears in the string.\n",
    "s.count(\"Python\")"
   ]
  },
  {
   "cell_type": "code",
   "execution_count": 33,
   "id": "4c525597",
   "metadata": {},
   "outputs": [
    {
     "data": {
      "text/plain": [
       "146"
      ]
     },
     "execution_count": 33,
     "metadata": {},
     "output_type": "execute_result"
    }
   ],
   "source": [
    "# 3- Print the index (location) of the word \"Machine Learning\" in the string.\n",
    "s.find('Machine Learning')"
   ]
  },
  {
   "cell_type": "code",
   "execution_count": 34,
   "id": "5c0f830c",
   "metadata": {},
   "outputs": [
    {
     "data": {
      "text/plain": [
       "146"
      ]
     },
     "execution_count": 34,
     "metadata": {},
     "output_type": "execute_result"
    }
   ],
   "source": [
    "s.index('Machine Learning')"
   ]
  },
  {
   "cell_type": "code",
   "execution_count": 36,
   "id": "065eebfd",
   "metadata": {},
   "outputs": [],
   "source": [
    "# 4- Replace the word \"Python\" with \"C++\" and assign this string to a new variable. print the NEW string.\n",
    "new_s = s.replace('Python','C++')"
   ]
  },
  {
   "cell_type": "code",
   "execution_count": 37,
   "id": "79bcf7f8",
   "metadata": {},
   "outputs": [
    {
     "name": "stdout",
     "output_type": "stream",
     "text": [
      "C++ is a high-level, general-purpose and very popular programming language. \n",
      "The C++ programming language is being used in Web Development,\n",
      "Machine Learning applications, Computer Vision, along with all the\n",
      "cutting-edge technology in the software industry\n"
     ]
    }
   ],
   "source": [
    "print(new_s)"
   ]
  },
  {
   "cell_type": "code",
   "execution_count": 38,
   "id": "1ab7f3aa",
   "metadata": {},
   "outputs": [
    {
     "data": {
      "text/plain": [
       "140"
      ]
     },
     "execution_count": 38,
     "metadata": {},
     "output_type": "execute_result"
    }
   ],
   "source": [
    "new_s.find('Machine Learning')"
   ]
  },
  {
   "cell_type": "code",
   "execution_count": 39,
   "id": "5a19ba26",
   "metadata": {},
   "outputs": [
    {
     "name": "stdout",
     "output_type": "stream",
     "text": [
      "c++ is a high-level, general-purpose and very popular programming language. \n",
      "the c++ programming language is being used in web development,\n",
      "machine learning applications, computer vision, along with all the\n",
      "cutting-edge technology in the software industry\n"
     ]
    }
   ],
   "source": [
    "# 6- Print the entire NEW string as lower-case.\n",
    "new_s_lower = new_s.lower()\n",
    "print(new_s_lower)"
   ]
  },
  {
   "cell_type": "code",
   "execution_count": 40,
   "id": "c73f6b55",
   "metadata": {},
   "outputs": [
    {
     "name": "stdout",
     "output_type": "stream",
     "text": [
      "C++ IS A HIGH-LEVEL, GENERAL-PURPOSE AND VERY POPULAR PROGRAMMING LANGUAGE. \n",
      "THE C++ PROGRAMMING LANGUAGE IS BEING USED IN WEB DEVELOPMENT,\n",
      "MACHINE LEARNING APPLICATIONS, COMPUTER VISION, ALONG WITH ALL THE\n",
      "CUTTING-EDGE TECHNOLOGY IN THE SOFTWARE INDUSTRY\n"
     ]
    }
   ],
   "source": [
    "# 7- Print the entire NEW string as upper-case.\n",
    "new_s_upper = new_s.upper()\n",
    "print(new_s_upper)"
   ]
  },
  {
   "cell_type": "code",
   "execution_count": 43,
   "id": "2388e979",
   "metadata": {},
   "outputs": [
    {
     "name": "stdout",
     "output_type": "stream",
     "text": [
      "1\n",
      "2\n",
      "3\n",
      "4\n",
      "5\n",
      "6\n",
      "7\n",
      "8\n",
      "9\n",
      "10\n",
      "Done\n"
     ]
    }
   ],
   "source": [
    "#if statment\n",
    "x=3\n",
    "y=1\n",
    "if x<y:\n",
    "    print(x)\n",
    "elif y<x:\n",
    "    print(y)\n",
    "    \n",
    "else :\n",
    "    print(0)\n",
    "\n",
    "\n",
    "\n",
    "\n",
    "\n",
    "\n",
    "\n",
    "\n",
    "#while loops\n",
    "\n",
    "i = 1\n",
    "while i <=10:\n",
    "    print(i)#tab جعلت امر الطباعة داخل اللوب\n",
    "    i = i +1##tab جعلت امر الحساب داخل اللوب\n",
    "\n",
    "\n",
    "print('Done')"
   ]
  },
  {
   "cell_type": "code",
   "execution_count": 45,
   "id": "d4e10cde",
   "metadata": {},
   "outputs": [
    {
     "name": "stdout",
     "output_type": "stream",
     "text": [
      "Go Left or Rightright\n",
      "Are u sureyes\n",
      "Thanks\n",
      "go right\n"
     ]
    }
   ],
   "source": [
    "n = input(\"Go Left or Right\")\n",
    "\n",
    "while n == 'right' :\n",
    "    n = input(\"Are u sure\")\n",
    "    print('Thanks')\n",
    "    \n",
    "print('go right')"
   ]
  },
  {
   "cell_type": "code",
   "execution_count": 46,
   "id": "b31a4565",
   "metadata": {},
   "outputs": [
    {
     "name": "stdout",
     "output_type": "stream",
     "text": [
      "Current value:  10\n",
      "cont\n",
      "Current value:  9\n",
      "cont\n",
      "Current value:  8\n",
      "cont\n",
      "Current value:  7\n",
      "cont\n",
      "Current value:  6\n",
      "Finished!\n"
     ]
    }
   ],
   "source": [
    "# break statment --> Exist form Loop\n",
    "\n",
    "x = 10\n",
    "\n",
    "while x> 0:\n",
    "    print(\"Current value: \", x)\n",
    "    x = x-1\n",
    "    if x == 5:\n",
    "        break #stop + exsit loop\n",
    "    print('cont')\n",
    "print('Finished!')"
   ]
  },
  {
   "cell_type": "code",
   "execution_count": 48,
   "id": "8ca3cb81",
   "metadata": {},
   "outputs": [
    {
     "name": "stdout",
     "output_type": "stream",
     "text": [
      "Current value:  9\n",
      "Current value:  8\n",
      "Current value:  7\n",
      "Current value:  6\n",
      "Current value:  4\n",
      "Current value:  3\n",
      "Current value:  2\n",
      "Current value:  1\n",
      "Current value:  0\n",
      "Finished!\n"
     ]
    }
   ],
   "source": [
    "# continue --> skip for same step\n",
    "\n",
    "x = 10\n",
    "while x > 0:\n",
    "    x = x-1\n",
    "    if x == 5:\n",
    "        continue #skip --> 5\n",
    "    print(\"Current value: \", x)\n",
    "    \n",
    "    \n",
    "print('Finished!')"
   ]
  },
  {
   "cell_type": "code",
   "execution_count": 49,
   "id": "24bba0bf",
   "metadata": {},
   "outputs": [
    {
     "data": {
      "text/plain": [
       "range(0, 5)"
      ]
     },
     "execution_count": 49,
     "metadata": {},
     "output_type": "execute_result"
    }
   ],
   "source": [
    "range(5)# هنا يعني ال  Size =5\n",
    "range(0, 5)# (start , end)\n",
    "range(2,11,2):   #range(start, end,step)"
   ]
  },
  {
   "cell_type": "code",
   "execution_count": null,
   "id": "ffcfc9f3",
   "metadata": {},
   "outputs": [],
   "source": [
    "# 0 - 1 - 2 - 3 - 4"
   ]
  },
  {
   "cell_type": "code",
   "execution_count": 50,
   "id": "fc0fbfbd",
   "metadata": {},
   "outputs": [],
   "source": [
    "s = 'Python is a high-level'"
   ]
  },
  {
   "cell_type": "code",
   "execution_count": 51,
   "id": "da900710",
   "metadata": {},
   "outputs": [
    {
     "data": {
      "text/plain": [
       "22"
      ]
     },
     "execution_count": 51,
     "metadata": {},
     "output_type": "execute_result"
    }
   ],
   "source": [
    "len(s)"
   ]
  },
  {
   "cell_type": "code",
   "execution_count": 52,
   "id": "cb59a90e",
   "metadata": {},
   "outputs": [
    {
     "data": {
      "text/plain": [
       "range(0, 22)"
      ]
     },
     "execution_count": 52,
     "metadata": {},
     "output_type": "execute_result"
    }
   ],
   "source": [
    "range(22)"
   ]
  },
  {
   "cell_type": "code",
   "execution_count": 59,
   "id": "2a0332df",
   "metadata": {},
   "outputs": [
    {
     "data": {
      "text/plain": [
       "range(1, 11)"
      ]
     },
     "execution_count": 59,
     "metadata": {},
     "output_type": "execute_result"
    }
   ],
   "source": [
    "range(1,11)"
   ]
  },
  {
   "cell_type": "code",
   "execution_count": 53,
   "id": "33a5fdf1",
   "metadata": {},
   "outputs": [
    {
     "data": {
      "text/plain": [
       "range(0, 22)"
      ]
     },
     "execution_count": 53,
     "metadata": {},
     "output_type": "execute_result"
    }
   ],
   "source": [
    "range(len(s))"
   ]
  },
  {
   "cell_type": "code",
   "execution_count": 55,
   "id": "13185f83",
   "metadata": {},
   "outputs": [
    {
     "name": "stdout",
     "output_type": "stream",
     "text": [
      "0\n",
      "1\n",
      "2\n",
      "3\n",
      "4\n"
     ]
    }
   ],
   "source": [
    "# for loops\n",
    "\n",
    "for i in range(5):\n",
    "    print(i)"
   ]
  },
  {
   "cell_type": "code",
   "execution_count": 56,
   "id": "3ec5be58",
   "metadata": {},
   "outputs": [
    {
     "name": "stdout",
     "output_type": "stream",
     "text": [
      "2\n",
      "3\n",
      "4\n",
      "5\n",
      "6\n",
      "7\n"
     ]
    }
   ],
   "source": [
    "for i in range(2,8): #range(start, end)\n",
    "    print(i)"
   ]
  },
  {
   "cell_type": "code",
   "execution_count": 57,
   "id": "dbc7836b",
   "metadata": {},
   "outputs": [
    {
     "name": "stdout",
     "output_type": "stream",
     "text": [
      "2\n",
      "4\n",
      "6\n",
      "8\n",
      "10\n"
     ]
    }
   ],
   "source": [
    "for i in range(2,11,2):   #range(start, end,step)\n",
    "    print(i)"
   ]
  },
  {
   "cell_type": "code",
   "execution_count": 61,
   "id": "1ffba2af",
   "metadata": {},
   "outputs": [
    {
     "name": "stdout",
     "output_type": "stream",
     "text": [
      "Enter your id: 5\n",
      "1\n",
      "2\n",
      "3\n",
      "4\n",
      "5\n",
      "15\n"
     ]
    }
   ],
   "source": [
    "num = int(input(\"Enter your id: \"))\n",
    "sum = 0\n",
    "\n",
    "for i in range(1, num+1):\n",
    "    sum = sum + i \n",
    "    print(i)\n",
    "    \n",
    "print(sum)"
   ]
  },
  {
   "cell_type": "code",
   "execution_count": 63,
   "id": "70b3e8d2",
   "metadata": {},
   "outputs": [
    {
     "name": "stdout",
     "output_type": "stream",
     "text": [
      "i -->  3\n",
      "sum -->  3\n",
      "i -->  5\n",
      "sum -->  8\n",
      "sum =  8\n"
     ]
    }
   ],
   "source": [
    "#break --> exit , stop\n",
    "\n",
    "sum = 0\n",
    "for i in range(3,11,2):\n",
    "    sum = sum + i\n",
    "    print(\"i --> \", i)\n",
    "    print(\"sum --> \", sum)\n",
    "    if sum == 8:\n",
    "        break\n",
    "print(\"sum = \", sum)\n"
   ]
  },
  {
   "cell_type": "code",
   "execution_count": 64,
   "id": "32fc8d76",
   "metadata": {},
   "outputs": [
    {
     "name": "stdout",
     "output_type": "stream",
     "text": [
      "2\n",
      "4\n",
      "8\n",
      "10\n"
     ]
    }
   ],
   "source": [
    "#continue --> skip\n",
    "\n",
    "for i in range(2,11,2):\n",
    "    if i == 6:\n",
    "        continue\n",
    "    print(i)"
   ]
  },
  {
   "cell_type": "code",
   "execution_count": 73,
   "id": "77a4a6df",
   "metadata": {},
   "outputs": [
    {
     "name": "stdout",
     "output_type": "stream",
     "text": [
      "there are a or x in str\n"
     ]
    }
   ],
   "source": [
    "s = 'abcdefgh' # index 0 --> len(s) -1 [0-7]\n",
    "\n",
    "\n",
    "for index in range(len(s)):\n",
    "    if s[index] == 'a' or s[index] == 'x':\n",
    "        print(\"there are a or x in str\")"
   ]
  },
  {
   "cell_type": "code",
   "execution_count": 75,
   "id": "415888e1",
   "metadata": {},
   "outputs": [
    {
     "name": "stdout",
     "output_type": "stream",
     "text": [
      "there are a or x in str\n"
     ]
    }
   ],
   "source": [
    "for i in s:\n",
    "    if i == 'a' or i == 'x':\n",
    "        print(\"there are a or x in str\")\n",
    "\n",
    "s=\"momen\"\n",
    "for i in s:\n",
    "    print(i)# بطبع الاحرف\n",
    "    "
   ]
  },
  {
   "cell_type": "code",
   "execution_count": 79,
   "id": "e6329f23",
   "metadata": {},
   "outputs": [],
   "source": [
    "s1 = 'mit u rock'\n",
    "s2 = 'i rule mit kkkkk'"
   ]
  },
  {
   "cell_type": "code",
   "execution_count": 81,
   "id": "73283a5b",
   "metadata": {},
   "outputs": [
    {
     "name": "stdout",
     "output_type": "stream",
     "text": [
      "commomn characters:  m m\n",
      "commomn characters:  i i\n",
      "commomn characters:  i i\n",
      "commomn characters:  t t\n",
      "commomn characters:     \n",
      "commomn characters:     \n",
      "commomn characters:     \n",
      "commomn characters:  u u\n",
      "commomn characters:     \n",
      "commomn characters:     \n",
      "commomn characters:     \n",
      "commomn characters:  r r\n",
      "commomn characters:  k k\n",
      "commomn characters:  k k\n",
      "commomn characters:  k k\n",
      "commomn characters:  k k\n",
      "commomn characters:  k k\n"
     ]
    }
   ],
   "source": [
    "for i1 in s1:\n",
    "    for i2 in s2:\n",
    "        if i1 == i2:\n",
    "            print(\"commomn characters: \",i1, i2)"
   ]
  },
  {
   "cell_type": "code",
   "execution_count": null,
   "id": "e68357ac",
   "metadata": {},
   "outputs": [],
   "source": [
    "i1 = m\n",
    "    i2 = i\n",
    "    i2 =  \n",
    "    i2 = r\n",
    "    .\n",
    "    .\n",
    "    .\n",
    "    i2 = t\n",
    "\n",
    "i1 = i\n",
    "    i2 = i\n",
    "    i2 =  \n",
    "    i2 = r\n",
    "    .\n",
    "    .\n",
    "    .\n",
    "    i2 = t"
   ]
  },
  {
   "cell_type": "code",
   "execution_count": 86,
   "id": "7e55edb5",
   "metadata": {},
   "outputs": [
    {
     "name": "stdout",
     "output_type": "stream",
     "text": [
      "Enter a number5\n",
      "sum =  15\n"
     ]
    }
   ],
   "source": [
    "# 1. Write a python program that get the sum of n numbers:\n",
    "#Input: 5\n",
    "\n",
    "\n",
    "num = int(input(\"Enter a number\"))\n",
    "sum = 0\n",
    "for i in range(1,num+1):\n",
    "    sum = sum + i\n",
    "    \n",
    "print(\"sum = \", sum)"
   ]
  },
  {
   "cell_type": "code",
   "execution_count": 87,
   "id": "1c61a6b2",
   "metadata": {},
   "outputs": [
    {
     "data": {
      "text/plain": [
       "15"
      ]
     },
     "execution_count": 87,
     "metadata": {},
     "output_type": "execute_result"
    }
   ],
   "source": [
    "1+2+3+4+5"
   ]
  },
  {
   "cell_type": "code",
   "execution_count": 85,
   "id": "02986bfd",
   "metadata": {},
   "outputs": [
    {
     "data": {
      "text/plain": [
       "range(1, 6)"
      ]
     },
     "execution_count": 85,
     "metadata": {},
     "output_type": "execute_result"
    }
   ],
   "source": [
    "range(1,5+1)"
   ]
  },
  {
   "cell_type": "code",
   "execution_count": null,
   "id": "3038635d",
   "metadata": {},
   "outputs": [],
   "source": [
    "#2. Write a python program that counts vowel (a, e, o, I, u) characters in a string\n",
    "#Input: Mohamed"
   ]
  },
  {
   "cell_type": "code",
   "execution_count": 89,
   "id": "fd72303f",
   "metadata": {},
   "outputs": [
    {
     "name": "stdout",
     "output_type": "stream",
     "text": [
      "enter your nameMohamed\n",
      "Mohamed  have -->  3  vowels \n"
     ]
    }
   ],
   "source": [
    "# try1\n",
    "word = input(\"enter your name\")\n",
    "\n",
    "counter = 0 \n",
    "for i in word:\n",
    "    if i == 'a' or i == 'e' or i == 'o' or i == 'i' or i == 'u':\n",
    "        counter= counter+1\n",
    "        \n",
    "print(word ,\" have --> \", counter,\" vowels \")"
   ]
  },
  {
   "cell_type": "code",
   "execution_count": 90,
   "id": "d8338974",
   "metadata": {},
   "outputs": [
    {
     "name": "stdout",
     "output_type": "stream",
     "text": [
      "enter your nameMohamed\n",
      "Mohamed  have -->  3  vowels \n"
     ]
    }
   ],
   "source": [
    "#try2:\n",
    "\n",
    "word = input(\"enter your name\")\n",
    "counter = 0 \n",
    "vowels = \"aeoiuAEOIU\"\n",
    "for i in word:\n",
    "    if i in vowels:# ***هنا بسأل هل ال أي داخل رينج الفاول\n",
    "        counter= counter+1\n",
    "        \n",
    "print(word ,\" have --> \", counter,\" vowels \")"
   ]
  },
  {
   "cell_type": "code",
   "execution_count": 93,
   "id": "e278619f",
   "metadata": {},
   "outputs": [
    {
     "name": "stdout",
     "output_type": "stream",
     "text": [
      "enter your name: Mohamed\n",
      "Mohamed  have -->  3  vowels \n"
     ]
    }
   ],
   "source": [
    "#try3:\n",
    "\n",
    "word = input(\"enter your name: \")\n",
    "word_lo = word.lower()\n",
    "counter = 0 \n",
    "vowels = \"aeoiu\"\n",
    "for i in word_lo:\n",
    "    if i in vowels:\n",
    "        counter= counter+1\n",
    "        \n",
    "print(word ,\" have --> \", counter,\" vowels \")"
   ]
  },
  {
   "cell_type": "code",
   "execution_count": null,
   "id": "3723fd2a",
   "metadata": {},
   "outputs": [],
   "source": [
    "#لكتابة نص ويحتوي ارقام معرفه\n",
    "a=10\n",
    "b=20\n",
    "c=\"python\"\n",
    "print(f\"the f num is {a},the 2 num{b},string {c}\")\n",
    "print(\"the first num is {}, the second num is {} , and the string is {}\".format(a,b,c))"
   ]
  }
 ],
 "metadata": {
  "kernelspec": {
   "display_name": "Python 3 (ipykernel)",
   "language": "python",
   "name": "python3"
  },
  "language_info": {
   "codemirror_mode": {
    "name": "ipython",
    "version": 3
   },
   "file_extension": ".py",
   "mimetype": "text/x-python",
   "name": "python",
   "nbconvert_exporter": "python",
   "pygments_lexer": "ipython3",
   "version": "3.9.13"
  }
 },
 "nbformat": 4,
 "nbformat_minor": 5
}
