{
 "cells": [
  {
   "cell_type": "code",
   "execution_count": 11,
   "id": "bbf174eb",
   "metadata": {},
   "outputs": [
    {
     "name": "stdout",
     "output_type": "stream",
     "text": [
      "1\n"
     ]
    }
   ],
   "source": [
    "x =  1 #--> Integer\n",
    "print(x)//طباعة"
   ]
  },
  {
   "cell_type": "code",
   "execution_count": 12,
   "id": "42dc1088",
   "metadata": {},
   "outputs": [
    {
     "data": {
      "text/plain": [
       "int"
      ]
     },
     "execution_count": 12,
     "metadata": {},
     "output_type": "execute_result"
    }
   ],
   "source": [
    "type(x)//نوع المتغير بناء على المحفوظ جواته"
   ]
  },
  {
   "cell_type": "code",
   "execution_count": 13,
   "id": "df03fdc7",
   "metadata": {},
   "outputs": [
    {
     "name": "stdout",
     "output_type": "stream",
     "text": [
      "<class 'int'>\n"
     ]
    }
   ],
   "source": [
    "print(type(x))"
   ]
  },
  {
   "cell_type": "code",
   "execution_count": 16,
   "id": "1094d0c5",
   "metadata": {},
   "outputs": [
    {
     "data": {
      "text/plain": [
       "3.3"
      ]
     },
     "execution_count": 16,
     "metadata": {},
     "output_type": "execute_result"
    }
   ],
   "source": [
    "y = 3.3 #--> float \n",
    "y"
   ]
  },
  {
   "cell_type": "code",
   "execution_count": 18,
   "id": "101ca80b",
   "metadata": {},
   "outputs": [
    {
     "data": {
      "text/plain": [
       "float"
      ]
     },
     "execution_count": 18,
     "metadata": {},
     "output_type": "execute_result"
    }
   ],
   "source": [
    "t = 1.0\n",
    "type(t)"
   ]
  },
  {
   "cell_type": "code",
   "execution_count": 28,
   "id": "2d0377fa",
   "metadata": {},
   "outputs": [],
   "source": [
    "z = False// هنا الترو والفولس كيز سنستف ومحفوظات واول حرف كبتل"
   ]
  },
  {
   "cell_type": "code",
   "execution_count": 22,
   "id": "0d196af6",
   "metadata": {},
   "outputs": [
    {
     "data": {
      "text/plain": [
       "bool"
      ]
     },
     "execution_count": 22,
     "metadata": {},
     "output_type": "execute_result"
    }
   ],
   "source": [
    "type(z)"
   ]
  },
  {
   "cell_type": "code",
   "execution_count": 26,
   "id": "6ef97920",
   "metadata": {},
   "outputs": [],
   "source": [
    "u = None"
   ]
  },
  {
   "cell_type": "code",
   "execution_count": 24,
   "id": "8f3cbbfb",
   "metadata": {},
   "outputs": [
    {
     "data": {
      "text/plain": [
       "NoneType"
      ]
     },
     "execution_count": 24,
     "metadata": {},
     "output_type": "execute_result"
    }
   ],
   "source": [
    "type(u)"
   ]
  },
  {
   "cell_type": "code",
   "execution_count": 29,
   "id": "7b6b3fce",
   "metadata": {},
   "outputs": [
    {
     "data": {
      "text/plain": [
       "5"
      ]
     },
     "execution_count": 29,
     "metadata": {},
     "output_type": "execute_result"
    }
   ],
   "source": [
    "3+2"
   ]
  },
  {
   "cell_type": "code",
   "execution_count": 34,
   "id": "25ea2869",
   "metadata": {},
   "outputs": [
    {
     "name": "stdout",
     "output_type": "stream",
     "text": [
      "5\n",
      "1\n"
     ]
    }
   ],
   "source": [
    "print(3+2)\n",
    "print(3-2)"
   ]
  },
  {
   "cell_type": "code",
   "execution_count": 35,
   "id": "f9fa3c4b",
   "metadata": {},
   "outputs": [
    {
     "name": "stdout",
     "output_type": "stream",
     "text": [
      "15.5\n",
      "4.5\n",
      "55.0\n",
      "1.8181818181818181\n",
      "4.5\n",
      "316227.7660168379\n"
     ]
    }
   ],
   "source": [
    "x = 10 \n",
    "y = 5.5\n",
    "\n",
    "#sum\n",
    "print(x + y)\n",
    "\n",
    "#subtract\n",
    "print(x - y)\n",
    "\n",
    "#multiplication\n",
    "print(x * y)\n",
    "\n",
    "#division\n",
    "print(x / y)\n",
    "\n",
    "#reminder\n",
    "print(x % y)\n",
    "\n",
    "#power\n",
    "print(x ** y)\n",
    "print(x=y)// syntax error\n",
    "print(x==y)// True OR False \n",
    "\n",
    "print() print()// خطأ سنتكس بزبطش ورا بعض او افصلهم بسمي كولون للاول\n",
    "print(); print()// هيك صحيح\n"
   ]
  },
  {
   "cell_type": "code",
   "execution_count": 46,
   "id": "bff59212",
   "metadata": {},
   "outputs": [],
   "source": [
    "pi = 22/7\n",
    "raduis = 2.2 +1  "
   ]
  },
  {
   "cell_type": "code",
   "execution_count": 48,
   "id": "134c8acd",
   "metadata": {},
   "outputs": [],
   "source": [
    "area = pi * (raduis ** 2)"
   ]
  },
  {
   "cell_type": "code",
   "execution_count": 49,
   "id": "1926881f",
   "metadata": {},
   "outputs": [
    {
     "name": "stdout",
     "output_type": "stream",
     "text": [
      "32.182857142857145\n"
     ]
    }
   ],
   "source": [
    "print(area)"
   ]
  },
  {
   "cell_type": "code",
   "execution_count": 58,
   "id": "4e8d35dd",
   "metadata": {},
   "outputs": [
    {
     "data": {
      "text/plain": [
       "str"
      ]
     },
     "execution_count": 58,
     "metadata": {},
     "output_type": "execute_result"
    }
   ],
   "source": [
    "type(' ')"
   ]
  },
  {
   "cell_type": "code",
   "execution_count": 59,
   "id": "5b768bfd",
   "metadata": {},
   "outputs": [
    {
     "data": {
      "text/plain": [
       "'ahmed'"
      ]
     },
     "execution_count": 59,
     "metadata": {},
     "output_type": "execute_result"
    }
   ],
   "source": [
    "name = 'ahmed' #--> str\n",
    "name"
   ]
  },
  {
   "cell_type": "code",
   "execution_count": 60,
   "id": "49fd614f",
   "metadata": {},
   "outputs": [
    {
     "data": {
      "text/plain": [
       "str"
      ]
     },
     "execution_count": 60,
     "metadata": {},
     "output_type": "execute_result"
    }
   ],
   "source": [
    "type(name)"
   ]
  },
  {
   "cell_type": "code",
   "execution_count": 62,
   "id": "b06f8f3d",
   "metadata": {},
   "outputs": [],
   "source": [
    "age = '26'"
   ]
  },
  {
   "cell_type": "code",
   "execution_count": 63,
   "id": "a4195832",
   "metadata": {},
   "outputs": [
    {
     "data": {
      "text/plain": [
       "'26'"
      ]
     },
     "execution_count": 63,
     "metadata": {},
     "output_type": "execute_result"
    }
   ],
   "source": [
    "age"
   ]
  },
  {
   "cell_type": "code",
   "execution_count": 64,
   "id": "048d5c8a",
   "metadata": {},
   "outputs": [],
   "source": [
    "s = \"Hi i am ahmed , and i am 26 years old\""
   ]
  },
  {
   "cell_type": "code",
   "execution_count": 66,
   "id": "e084e0a6",
   "metadata": {},
   "outputs": [
    {
     "data": {
      "text/plain": [
       "str"
      ]
     },
     "execution_count": 66,
     "metadata": {},
     "output_type": "execute_result"
    }
   ],
   "source": [
    "type(s)"
   ]
  },
  {
   "cell_type": "code",
   "execution_count": 67,
   "id": "d3509282",
   "metadata": {},
   "outputs": [
    {
     "data": {
      "text/plain": [
       "'hello'"
      ]
     },
     "execution_count": 67,
     "metadata": {},
     "output_type": "execute_result"
    }
   ],
   "source": [
    "x = 'hello' \n",
    "x"
   ]
  },
  {
   "cell_type": "code",
   "execution_count": 69,
   "id": "112fb4ab",
   "metadata": {},
   "outputs": [
    {
     "data": {
      "text/plain": [
       "'hellohellohellohellohello'"
      ]
     },
     "execution_count": 69,
     "metadata": {},
     "output_type": "execute_result"
    }
   ],
   "source": [
    "x = x * 5\n",
    "x"
   ]
  },
  {
   "cell_type": "code",
   "execution_count": 72,
   "id": "63f4ebee",
   "metadata": {},
   "outputs": [
    {
     "name": "stdout",
     "output_type": "stream",
     "text": [
      "Hello , ali\n"
     ]
    }
   ],
   "source": [
    "hi = 'Hello ,'\n",
    "name = ' ali'\n",
    "greeting = hi + name\n",
    "print(greeting)"
   ]
  },
  {
   "cell_type": "code",
   "execution_count": 73,
   "id": "e7f9eb8b",
   "metadata": {},
   "outputs": [
    {
     "name": "stdout",
     "output_type": "stream",
     "text": [
      "Hello , ali\n"
     ]
    }
   ],
   "source": [
    "hi = 'Hello ,'\n",
    "name = 'ali'\n",
    "greeting = hi + ' ' +name\n",
    "print(greeting)"
   ]
  },
  {
   "cell_type": "code",
   "execution_count": 74,
   "id": "cb4c8d00",
   "metadata": {},
   "outputs": [
    {
     "name": "stdout",
     "output_type": "stream",
     "text": [
      "Hello , alialiali\n"
     ]
    }
   ],
   "source": [
    "hi = 'Hello ,'\n",
    "name = 'ali'\n",
    "greeting = hi + ' ' +name * 3\n",
    "print(greeting)"
   ]
  },
  {
   "cell_type": "code",
   "execution_count": 77,
   "id": "f6cad674",
   "metadata": {},
   "outputs": [
    {
     "data": {
      "text/plain": [
       "bool"
      ]
     },
     "execution_count": 77,
     "metadata": {},
     "output_type": "execute_result"
    }
   ],
   "source": [
    "x = True\n",
    "type(x)"
   ]
  },
  {
   "cell_type": "code",
   "execution_count": 78,
   "id": "12adbf03",
   "metadata": {},
   "outputs": [],
   "source": [
    "x_str = str(x)"
   ]
  },
  {
   "cell_type": "code",
   "execution_count": 79,
   "id": "000bf185",
   "metadata": {},
   "outputs": [
    {
     "data": {
      "text/plain": [
       "'True'"
      ]
     },
     "execution_count": 79,
     "metadata": {},
     "output_type": "execute_result"
    }
   ],
   "source": [
    "x_str"
   ]
  },
  {
   "cell_type": "code",
   "execution_count": 80,
   "id": "ead7d272",
   "metadata": {},
   "outputs": [
    {
     "data": {
      "text/plain": [
       "str"
      ]
     },
     "execution_count": 80,
     "metadata": {},
     "output_type": "execute_result"
    }
   ],
   "source": [
    "type(x_str)"
   ]
  },
  {
   "cell_type": "code",
   "execution_count": 83,
   "id": "86724fc7",
   "metadata": {},
   "outputs": [
    {
     "name": "stdout",
     "output_type": "stream",
     "text": [
      "Ahmed\n"
     ]
    }
   ],
   "source": [
    "print(\"Ahmed\")"
   ]
  },
  {
   "cell_type": "code",
   "execution_count": 85,
   "id": "3f45b370",
   "metadata": {},
   "outputs": [
    {
     "name": "stdout",
     "output_type": "stream",
     "text": [
      "True Fav number is : True\n"
     ]
    }
   ],
   "source": [
    "print(x + \" \" + \"Fav number is : \" + x)"
   ]
  },
  {
   "cell_type": "code",
   "execution_count": 93,
   "id": "a85662e5",
   "metadata": {},
   "outputs": [],
   "source": [
    "name = 'ahmed'\n",
    "cc = 5"
   ]
  },
  {
   "cell_type": "code",
   "execution_count": 95,
   "id": "3bea8305",
   "metadata": {},
   "outputs": [
    {
     "name": "stdout",
     "output_type": "stream",
     "text": [
      "ahmed Fav number is : 5\n"
     ]
    }
   ],
   "source": [
    "print(name + \" \" + \"Fav number is : \" + str(cc))"
   ]
  },
  {
   "cell_type": "code",
   "execution_count": 97,
   "id": "bd93f262",
   "metadata": {},
   "outputs": [
    {
     "name": "stdout",
     "output_type": "stream",
     "text": [
      "Enter the number5\n"
     ]
    },
    {
     "data": {
      "text/plain": [
       "'5'"
      ]
     },
     "execution_count": 97,
     "metadata": {},
     "output_type": "execute_result"
    }
   ],
   "source": [
    "x = input(\"Enter the number\")\n",
    "x"
   ]
  },
  {
   "cell_type": "code",
   "execution_count": 102,
   "id": "098c8204",
   "metadata": {},
   "outputs": [
    {
     "name": "stdout",
     "output_type": "stream",
     "text": [
      "plz, Enter an integer number5\n"
     ]
    },
    {
     "data": {
      "text/plain": [
       "5"
      ]
     },
     "execution_count": 102,
     "metadata": {},
     "output_type": "execute_result"
    }
   ],
   "source": [
    "x = int(input(\"plz, Enter an integer number\"))\n",
    "x"
   ]
  },
  {
   "cell_type": "code",
   "execution_count": 103,
   "id": "91dd1034",
   "metadata": {},
   "outputs": [
    {
     "data": {
      "text/plain": [
       "int"
      ]
     },
     "execution_count": 103,
     "metadata": {},
     "output_type": "execute_result"
    }
   ],
   "source": [
    "type(x)"
   ]
  },
  {
   "cell_type": "code",
   "execution_count": 104,
   "id": "e2084c18",
   "metadata": {},
   "outputs": [
    {
     "name": "stdout",
     "output_type": "stream",
     "text": [
      "plz, Enter a folat number5.5\n"
     ]
    },
    {
     "data": {
      "text/plain": [
       "5.5"
      ]
     },
     "execution_count": 104,
     "metadata": {},
     "output_type": "execute_result"
    }
   ],
   "source": [
    "c= float(input(\"plz, Enter a folat number\"))\n",
    "c"
   ]
  },
  {
   "cell_type": "code",
   "execution_count": 106,
   "id": "53b47d71",
   "metadata": {},
   "outputs": [
    {
     "data": {
      "text/plain": [
       "float"
      ]
     },
     "execution_count": 106,
     "metadata": {},
     "output_type": "execute_result"
    }
   ],
   "source": [
    "type(c)"
   ]
  },
  {
   "cell_type": "code",
   "execution_count": 107,
   "id": "b835a436",
   "metadata": {},
   "outputs": [
    {
     "name": "stdout",
     "output_type": "stream",
     "text": [
      "plz, Enter first number 8\n",
      "plz, Enter sec number 4\n",
      "sum =  12\n",
      "sub =  4\n",
      "div =  2.0\n",
      "multi =  32\n",
      "reminder =  0\n",
      "power =  4096\n"
     ]
    }
   ],
   "source": [
    "num1 = int(input(\"plz, Enter first number \"))\n",
    "num2 = int(input(\"plz, Enter sec number \"))\n",
    "\n",
    "print('sum = ',num1 + num2)\n",
    "print('sub = ',num1 - num2)\n",
    "print('div = ',num1 / num2)\n",
    "print('multi = ',num1 * num2)\n",
    "print('reminder = ',num1 % num2)\n",
    "print('power = ',num1 ** num2)"
   ]
  },
  {
   "cell_type": "code",
   "execution_count": 123,
   "id": "7c4ed4a6",
   "metadata": {},
   "outputs": [],
   "source": [
    "v = 2\n",
    "f = 2"
   ]
  },
  {
   "cell_type": "code",
   "execution_count": 119,
   "id": "613a1ce3",
   "metadata": {},
   "outputs": [],
   "source": [
    "v = 4"
   ]
  },
  {
   "cell_type": "code",
   "execution_count": 116,
   "id": "f8517b91",
   "metadata": {},
   "outputs": [
    {
     "name": "stdout",
     "output_type": "stream",
     "text": [
      "plz, Enter first number 2\n",
      "plz, Enter sec number 2\n",
      "True\n"
     ]
    }
   ],
   "source": [
    "num1 = int(input(\"plz, Enter first number \"))\n",
    "num2 = int(input(\"plz, Enter sec number \"))\n",
    "\n",
    "print(num1 >= num2) # < ,> ,>= ,<= ,==,!=\n",
    "# for comment"
   ]
  },
  {
   "cell_type": "code",
   "execution_count": 124,
   "id": "b25765e1",
   "metadata": {},
   "outputs": [
    {
     "name": "stdout",
     "output_type": "stream",
     "text": [
      "a\n"
     ]
    }
   ],
   "source": [
    "if v == f:\n",
    "    print('a')\n",
    "    # في جمل الاف ستيتمنت او اي شي مشابه في لغات البرمجة كنا نميز الذي بداخل الاف واي جمل مشابهه من خلال الاقواس لكن هنا نميزه انه اول ما يجي لاشي تحت الاف ستيتمنت ع بداية السطر اضغط تاب حتى يفوت داخل الاف \n",
    "    # (Tab)تسد مسد الاقواس في الجمل شرطية واللوب\n",
    "\n",
    "\n",
    "    #مهم مهم مهم مهم\n",
    "     x = 5 \n",
    "print(\"x is 5\") if x == 5 else print(\"xis not 5\")\n",
    "\n",
    "x=5\n",
    "print(\"x is 5\") if x == 5 print(\"x is lees 5\") elif x<5 else print(\"xis not 5\")"
   ]
  },
  {
   "cell_type": "code",
   "execution_count": 125,
   "id": "79698ff1",
   "metadata": {},
   "outputs": [
    {
     "name": "stdout",
     "output_type": "stream",
     "text": [
      "False\n"
     ]
    }
   ],
   "source": [
    "a = True\n",
    "b = True\n",
    "print(a != b)"
   ]
  },
  {
   "cell_type": "code",
   "execution_count": 126,
   "id": "a9c74dd4",
   "metadata": {},
   "outputs": [
    {
     "name": "stdout",
     "output_type": "stream",
     "text": [
      "True\n"
     ]
    }
   ],
   "source": [
    "a = True\n",
    "b = True\n",
    "print(a and b)"
   ]
  },
  {
   "cell_type": "code",
   "execution_count": 127,
   "id": "9aef9910",
   "metadata": {},
   "outputs": [
    {
     "name": "stdout",
     "output_type": "stream",
     "text": [
      "False\n"
     ]
    }
   ],
   "source": [
    "a = True\n",
    "b = False\n",
    "print(a and b)"
   ]
  },
  {
   "cell_type": "code",
   "execution_count": 128,
   "id": "30344300",
   "metadata": {},
   "outputs": [
    {
     "name": "stdout",
     "output_type": "stream",
     "text": [
      "True\n"
     ]
    }
   ],
   "source": [
    "a = True\n",
    "b = False\n",
    "print(a or b)"
   ]
  },
  {
   "cell_type": "code",
   "execution_count": 129,
   "id": "3127d0c7",
   "metadata": {},
   "outputs": [
    {
     "name": "stdout",
     "output_type": "stream",
     "text": [
      "False\n"
     ]
    }
   ],
   "source": [
    "a = True\n",
    "print(not a)"
   ]
  },
  {
   "cell_type": "code",
   "execution_count": 131,
   "id": "9547e73b",
   "metadata": {},
   "outputs": [
    {
     "data": {
      "text/plain": [
       "3"
      ]
     },
     "execution_count": 131,
     "metadata": {},
     "output_type": "execute_result"
    }
   ],
   "source": [
    "s = 'abc'\n",
    "len(s)"
   ]
  },
  {
   "cell_type": "code",
   "execution_count": 132,
   "id": "3e3d4ecb",
   "metadata": {},
   "outputs": [
    {
     "data": {
      "text/plain": [
       "11"
      ]
     },
     "execution_count": 132,
     "metadata": {},
     "output_type": "execute_result"
    }
   ],
   "source": [
    "a = \"hello ahmed\" # 0 ->10\n",
    "len(a)"
   ]
  },
  {
   "cell_type": "code",
   "execution_count": 135,
   "id": "40f48b0d",
   "metadata": {},
   "outputs": [
    {
     "data": {
      "text/plain": [
       "'h'"
      ]
     },
     "execution_count": 135,
     "metadata": {},
     "output_type": "execute_result"
    }
   ],
   "source": [
    "# select first char\n",
    "a[0]"
   ]
  },
  {
   "cell_type": "code",
   "execution_count": 136,
   "id": "3bf3f524",
   "metadata": {},
   "outputs": [
    {
     "data": {
      "text/plain": [
       "'d'"
      ]
     },
     "execution_count": 136,
     "metadata": {},
     "output_type": "execute_result"
    }
   ],
   "source": [
    "# select last char\n",
    "a[10] #len -1"
   ]
  },
  {
   "cell_type": "code",
   "execution_count": 137,
   "id": "4cabeb3a",
   "metadata": {},
   "outputs": [
    {
     "ename": "IndexError",
     "evalue": "string index out of range",
     "output_type": "error",
     "traceback": [
      "\u001b[1;31m---------------------------------------------------------------------------\u001b[0m",
      "\u001b[1;31mIndexError\u001b[0m                                Traceback (most recent call last)",
      "\u001b[1;32m~\\AppData\\Local\\Temp\\ipykernel_6900\\4020710307.py\u001b[0m in \u001b[0;36m<module>\u001b[1;34m\u001b[0m\n\u001b[1;32m----> 1\u001b[1;33m \u001b[0ma\u001b[0m\u001b[1;33m[\u001b[0m\u001b[1;36m11\u001b[0m\u001b[1;33m]\u001b[0m\u001b[1;33m\u001b[0m\u001b[1;33m\u001b[0m\u001b[0m\n\u001b[0m",
      "\u001b[1;31mIndexError\u001b[0m: string index out of range"
     ]
    }
   ],
   "source": [
    "a[11]"
   ]
  },
  {
   "cell_type": "code",
   "execution_count": 138,
   "id": "0a1f5e9b",
   "metadata": {},
   "outputs": [
    {
     "data": {
      "text/plain": [
       "'d'"
      ]
     },
     "execution_count": 138,
     "metadata": {},
     "output_type": "execute_result"
    }
   ],
   "source": [
    "a[-1] # select last index"
   ]
  },
  {
   "cell_type": "code",
   "execution_count": 139,
   "id": "765cc8e8",
   "metadata": {},
   "outputs": [
    {
     "data": {
      "text/plain": [
       "'e'"
      ]
     },
     "execution_count": 139,
     "metadata": {},
     "output_type": "execute_result"
    }
   ],
   "source": [
    "a[-2]"
   ]
  },
  {
   "cell_type": "code",
   "execution_count": 151,
   "id": "d39a158c",
   "metadata": {},
   "outputs": [
    {
     "data": {
      "text/plain": [
       "'ello ahmed'"
      ]
     },
     "execution_count": 151,
     "metadata": {},
     "output_type": "execute_result"
    }
   ],
   "source": [
    "a[1:11]#[index:stop] الستوب ليس ضمن الطباعة\n",
    "[نهاية:بداية]#يبدأ من البداية طبيعي لكن النهاية ليست ضمن اللي بده يطبعه"
   ]
  },
  {
   "cell_type": "code",
   "execution_count": null,
   "id": "f7777d06",
   "metadata": {},
   "outputs": [],
   "source": [
    "a = \"hello ahmed\" "
   ]
  },
  {
   "cell_type": "code",
   "execution_count": 141,
   "id": "558effa5",
   "metadata": {},
   "outputs": [
    {
     "data": {
      "text/plain": [
       "'eoh'"
      ]
     },
     "execution_count": 141,
     "metadata": {},
     "output_type": "execute_result"
    }
   ],
   "source": [
    "a[1:8:3]#[index:stop:step] الستيب اي القفزة كل عدد معين من الخطوات جيبلي حرف مثلاً"
   ]
  },
  {
   "cell_type": "code",
   "execution_count": 143,
   "id": "5a5ca6c8",
   "metadata": {},
   "outputs": [
    {
     "data": {
      "text/plain": [
       "'hello'"
      ]
     },
     "execution_count": 143,
     "metadata": {},
     "output_type": "execute_result"
    }
   ],
   "source": [
    "a[0:5]"
   ]
  },
  {
   "cell_type": "code",
   "execution_count": 144,
   "id": "ce088f17",
   "metadata": {},
   "outputs": [
    {
     "data": {
      "text/plain": [
       "'hello'"
      ]
     },
     "execution_count": 144,
     "metadata": {},
     "output_type": "execute_result"
    }
   ],
   "source": [
    "a[:5]"
   ]
  },
  {
   "cell_type": "code",
   "execution_count": 145,
   "id": "893b73df",
   "metadata": {},
   "outputs": [
    {
     "data": {
      "text/plain": [
       "'hello ahmed'"
      ]
     },
     "execution_count": 145,
     "metadata": {},
     "output_type": "execute_result"
    }
   ],
   "source": [
    "a[:] "
   ]
  },
  {
   "cell_type": "code",
   "execution_count": 146,
   "id": "dc1fe826",
   "metadata": {},
   "outputs": [
    {
     "data": {
      "text/plain": [
       "'demha olleh'"
      ]
     },
     "execution_count": 146,
     "metadata": {},
     "output_type": "execute_result"
    }
   ],
   "source": [
    "a[-1]#الحرف الاخير\n",
    "a[-2]#الحرف القبل الاخير\n",
    "a[::-1]# هنا ببدا من لحرف لاخير وبرجع بالكلام رجوع لانه كل قفزة سالب واحد اي القفزة ثانيه رح تكون على السالب اثنين\n"
   ]
  },
  {
   "cell_type": "code",
   "execution_count": 147,
   "id": "c3a92b3f",
   "metadata": {},
   "outputs": [],
   "source": [
    "x = 'hello'"
   ]
  },
  {
   "cell_type": "code",
   "execution_count": 150,
   "id": "cc9447d8",
   "metadata": {},
   "outputs": [
    {
     "ename": "TypeError",
     "evalue": "'str' object does not support item assignment",
     "output_type": "error",
     "traceback": [
      "\u001b[1;31m---------------------------------------------------------------------------\u001b[0m",
      "\u001b[1;31mTypeError\u001b[0m                                 Traceback (most recent call last)",
      "\u001b[1;32m~\\AppData\\Local\\Temp\\ipykernel_6900\\3725084551.py\u001b[0m in \u001b[0;36m<module>\u001b[1;34m\u001b[0m\n\u001b[1;32m----> 1\u001b[1;33m \u001b[0mx\u001b[0m\u001b[1;33m[\u001b[0m\u001b[1;36m0\u001b[0m\u001b[1;33m]\u001b[0m \u001b[1;33m=\u001b[0m \u001b[1;34m'y'\u001b[0m \u001b[1;31m# immutable\u001b[0m\u001b[1;33m\u001b[0m\u001b[1;33m\u001b[0m\u001b[0m\n\u001b[0m",
      "\u001b[1;31mTypeError\u001b[0m: 'str' object does not support item assignment"
     ]
    }
   ],
   "source": [
    "x[0] = 'y' # immutable"
   ]
  },
  {
   "cell_type": "code",
   "execution_count": 153,
   "id": "2175148d",
   "metadata": {},
   "outputs": [
    {
     "data": {
      "text/plain": [
       "'yello'"
      ]
     },
     "execution_count": 153,
     "metadata": {},
     "output_type": "execute_result"
    }
   ],
   "source": [
    "x = 'hello'\n",
    "x = 'y' + x[1:len(x)]\n",
    "x\n",
    "\n",
    "x=\"momen\"\n",
    "#x=\"bhais\"+x[3:-1#بشطب لحرف لاخير\n",
    "x=\"bhais\"+x[3:len(x)]\n",
    "x"
   ]
  },
  {
   "cell_type": "code",
   "execution_count": 154,
   "id": "219aeb40",
   "metadata": {},
   "outputs": [
    {
     "name": "stdout",
     "output_type": "stream",
     "text": [
      "Welcome to ML course, ML route acadmy\n"
     ]
    }
   ],
   "source": [
    "s ='Welcome to Ai course, Ai route acadmy'\n",
    "print(s.replace('Ai', 'ML')) # replace(old value , new value)"
   ]
  },
  {
   "cell_type": "code",
   "execution_count": 155,
   "id": "39ca7353",
   "metadata": {},
   "outputs": [
    {
     "name": "stdout",
     "output_type": "stream",
     "text": [
      "['Welcome', 'to', 'Ai', 'course,', 'Ai', 'route', 'acadmy']\n"
     ]
    }
   ],
   "source": [
    "print(s.split(' '))"
   ]
  },
  {
   "cell_type": "code",
   "execution_count": 156,
   "id": "14bd2209",
   "metadata": {},
   "outputs": [
    {
     "name": "stdout",
     "output_type": "stream",
     "text": [
      "['Welcome to Ai course', ' Ai route acadmy']\n"
     ]
    }
   ],
   "source": [
    "print(s.split(','))"
   ]
  },
  {
   "cell_type": "code",
   "execution_count": 157,
   "id": "6da10a79",
   "metadata": {},
   "outputs": [
    {
     "name": "stdout",
     "output_type": "stream",
     "text": [
      "['Welcome to ', ' course, ', ' route acadmy']\n"
     ]
    }
   ],
   "source": [
    "print(s.split('Ai'))"
   ]
  },
  {
   "cell_type": "code",
   "execution_count": 158,
   "id": "d6814eff",
   "metadata": {},
   "outputs": [
    {
     "name": "stdout",
     "output_type": "stream",
     "text": [
      "WELCOME TO AI COURSE, AI ROUTE ACADMY\n"
     ]
    }
   ],
   "source": [
    "print(s.upper())"
   ]
  },
  {
   "cell_type": "code",
   "execution_count": 159,
   "id": "2e644e7a",
   "metadata": {},
   "outputs": [
    {
     "name": "stdout",
     "output_type": "stream",
     "text": [
      "welcome to ai course, ai route acadmy\n"
     ]
    }
   ],
   "source": [
    "print(s.lower())"
   ]
  },
  {
   "cell_type": "code",
   "execution_count": 160,
   "id": "31fda942",
   "metadata": {
    "scrolled": true
   },
   "outputs": [
    {
     "name": "stdout",
     "output_type": "stream",
     "text": [
      "Welcome to ai course, ai route acadmy\n"
     ]
    }
   ],
   "source": [
    "print(s.capitalize())#اول حرف كبتل"
   ]
  },
  {
   "cell_type": "code",
   "execution_count": 161,
   "id": "63766e79",
   "metadata": {},
   "outputs": [
    {
     "name": "stdout",
     "output_type": "stream",
     "text": [
      "2\n"
     ]
    }
   ],
   "source": [
    "print(s.count('Ai'))#عددهن بالجملة"
   ]
  },
  {
   "cell_type": "code",
   "execution_count": 162,
   "id": "c181ad12",
   "metadata": {},
   "outputs": [],
   "source": [
    "s = s.lower()"
   ]
  },
  {
   "cell_type": "code",
   "execution_count": 163,
   "id": "ba19f598",
   "metadata": {},
   "outputs": [
    {
     "data": {
      "text/plain": [
       "'welcome to ai course, ai route acadmy'"
      ]
     },
     "execution_count": 163,
     "metadata": {},
     "output_type": "execute_result"
    }
   ],
   "source": [
    "s"
   ]
  },
  {
   "cell_type": "code",
   "execution_count": 164,
   "id": "cc29d85b",
   "metadata": {},
   "outputs": [
    {
     "name": "stdout",
     "output_type": "stream",
     "text": [
      "True\n"
     ]
    }
   ],
   "source": [
    "print(s.islower())"
   ]
  },
  {
   "cell_type": "code",
   "execution_count": 165,
   "id": "a0379cca",
   "metadata": {},
   "outputs": [
    {
     "name": "stdout",
     "output_type": "stream",
     "text": [
      "False\n"
     ]
    }
   ],
   "source": [
    "print(s.isupper())"
   ]
  },
  {
   "cell_type": "code",
   "execution_count": 166,
   "id": "a3571d57",
   "metadata": {},
   "outputs": [
    {
     "name": "stdout",
     "output_type": "stream",
     "text": [
      "8\n"
     ]
    }
   ],
   "source": [
    "print(s.find('to'))"
   ]
  },
  {
   "cell_type": "code",
   "execution_count": null,
   "id": "8c391611",
   "metadata": {},
   "outputs": [],
   "source": [
    "x='momen  '\n",
    "x=x.replace('m','b')\n",
    "print(x)\n",
    "print(x.split('e'))\n",
    "print(x.upper())\n",
    "print(x.capitalize())\n",
    "print(x.count('b'))\n",
    "print(x.isupper())\n",
    "print(x.find('be'))"
   ]
  }
 ],
 "metadata": {
  "kernelspec": {
   "display_name": "Python 3 (ipykernel)",
   "language": "python",
   "name": "python3"
  },
  "language_info": {
   "codemirror_mode": {
    "name": "ipython",
    "version": 3
   },
   "file_extension": ".py",
   "mimetype": "text/x-python",
   "name": "python",
   "nbconvert_exporter": "python",
   "pygments_lexer": "ipython3",
   "version": "3.9.13"
  }
 },
 "nbformat": 4,
 "nbformat_minor": 5
}
